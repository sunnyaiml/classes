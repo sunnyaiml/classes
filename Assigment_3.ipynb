{
 "cells": [
  {
   "cell_type": "code",
   "execution_count": null,
   "id": "2fa48a7d-08f1-46e8-acdb-aa2ee2271224",
   "metadata": {},
   "outputs": [],
   "source": [
    "\n",
    "\n",
    "\n",
    "         #for range number range , string, list \n",
    "# (Start, End , step )\n",
    "# (end, start, - step)\n",
    "\n",
    "# for i in name --- [::-1]  \n"
   ]
  },
  {
   "cell_type": "code",
   "execution_count": null,
   "id": "f6148569-ca40-456b-a74f-f10c42fc8efe",
   "metadata": {},
   "outputs": [],
   "source": [
    "#1 Print 10 natural number\n",
    "\n",
    "for i in range(1,10):\n",
    "    print(i)\n",
    "    "
   ]
  },
  {
   "cell_type": "code",
   "execution_count": null,
   "id": "080943c7-8270-42cc-8121-6f1eaed609c8",
   "metadata": {},
   "outputs": [],
   "source": [
    "#2 Print 10 Even number\n",
    "\n",
    "for i in range(2,22,2):\n",
    "    print(i)"
   ]
  },
  {
   "cell_type": "code",
   "execution_count": null,
   "id": "3942b5f3-ba31-4233-9fa2-8faf0154daf3",
   "metadata": {},
   "outputs": [],
   "source": [
    "#3 Print 10 Odd number\n",
    "\n",
    "for i in range(3,22,2):\n",
    "    print(i)"
   ]
  },
  {
   "cell_type": "code",
   "execution_count": null,
   "id": "eb539bf0-86e4-4eaf-95a1-52468e1eb719",
   "metadata": {},
   "outputs": [],
   "source": [
    "#5 Print 10 Even number in reverse order\n",
    "\n",
    "for i in range(20,1,-2):\n",
    "    print(i)"
   ]
  },
  {
   "cell_type": "code",
   "execution_count": null,
   "id": "0b4ecb33-2ab5-4762-9f2e-17d5896e861a",
   "metadata": {},
   "outputs": [],
   "source": [
    "# 6 Table of a number Accepted from ther user\n",
    "\n",
    "\n",
    "num=int(input(\"enter your number:-\"))\n",
    "for i in range(1,11):\n",
    "    a=num*i\n",
    "    print(f'{num} * {i} =',a)    "
   ]
  },
  {
   "cell_type": "code",
   "execution_count": null,
   "id": "49dd76d2-d80d-4116-8f70-27fd93090221",
   "metadata": {},
   "outputs": [],
   "source": [
    "#7 Factorial of a number\n",
    "\n",
    "num = int(input(\"enter the number\"))\n",
    "f = 1\n",
    "\n",
    "for i in range(num,1,-1):\n",
    "    f*=i\n",
    "print(f' Factorial of {num} is',f)"
   ]
  },
  {
   "cell_type": "code",
   "execution_count": null,
   "id": "587a61a1-bbff-481c-844a-e87f89b6357c",
   "metadata": {},
   "outputs": [],
   "source": [
    "## 8  Check the number enter is prime or not\n",
    "\n",
    "num = int(input(\"enter the Prime No. \"))\n",
    "\n",
    "if num%num==0 and num%1==0 and num%2!=0:\n",
    "    print(\"enter number is prime\")\n",
    "else:\n",
    "    print(\"not a prime number\")"
   ]
  },
  {
   "cell_type": "code",
   "execution_count": null,
   "id": "2a45efd5-9970-4bfe-898b-fe8ccce1f8cf",
   "metadata": {},
   "outputs": [],
   "source": [
    "#9  Table of a number Accepted from ther user\n",
    "\n",
    "\n",
    "num=int(input(\"enter your number:-\"))\n",
    "for i in range(1,11):\n",
    "    a=num*i\n",
    "    print(f'{num} * {i} =',a)    "
   ]
  },
  {
   "cell_type": "code",
   "execution_count": null,
   "id": "9348cebc-adbf-4b1b-bb09-c9e2270c88eb",
   "metadata": {},
   "outputs": [],
   "source": [
    "#10 \n",
    "\n",
    "for i in range(5,0,-1):   \n",
    "    a = str(i)\n",
    "    print(a*i)\n"
   ]
  },
  {
   "cell_type": "code",
   "execution_count": null,
   "id": "794584b8-6ecd-48dc-b6f6-042bc4c3753d",
   "metadata": {},
   "outputs": [],
   "source": [
    "#11 palindrome\n",
    "# 123321\n",
    "num=123321\n",
    "i = 0\n",
    "while i < 6:\n",
    "    \n",
    "\n",
    "if rev == num:\n",
    "    print(\"Palindome\")\n",
    "else:\n",
    "    print(\"not\")\n",
    "    \n",
    "\n",
    "\n"
   ]
  },
  {
   "cell_type": "code",
   "execution_count": null,
   "id": "fe87cb75-70e6-419d-830c-ac0ac492ecd8",
   "metadata": {},
   "outputs": [],
   "source": [
    "# 12 \n",
    "\n",
    "\n",
    "for i in range(5):\n",
    "    print(\"*\"*i)"
   ]
  },
  {
   "cell_type": "code",
   "execution_count": null,
   "id": "3731e1b3-965a-4006-955c-9168f86d98a7",
   "metadata": {},
   "outputs": [],
   "source": [
    "#13\n",
    "\n",
    "\n",
    "num = int(input(\"enter the number: \"))\n",
    "sum_ = 0\n",
    "for i in range(1,num+1):\n",
    "    sum_+=i\n",
    "print(sum_)"
   ]
  },
  {
   "cell_type": "raw",
   "id": "ba06e6a6-5c7d-4ea4-8904-8b4c762fc753",
   "metadata": {},
   "source": [
    "#14 Output should be the table of 2 \n",
    "\n",
    "\n",
    "2 * 1 = 2\n",
    "2 * 2 = 4\n",
    "2 * 3 = 6\n",
    "2 * 4 = 8\n",
    "2 * 5 = 10\n",
    "2 * 6 = 12\n",
    "2 * 7 = 14\n",
    "2 * 8 = 16\n",
    "2 * 9 = 18\n",
    "2 * 10 = 20"
   ]
  },
  {
   "cell_type": "code",
   "execution_count": null,
   "id": "017bedb4-f7ca-44aa-839e-44f0a2617427",
   "metadata": {},
   "outputs": [],
   "source": [
    "#15 break and divisible of 5\n",
    "\n",
    "\n",
    "list1 = ['12', '15', '32', '42', '55', '75', '122', '132', '150', '180', '200'] \n",
    "a = 0\n",
    "for i in list1:\n",
    "    a = int(i)\n",
    "    if a % 5==0 and a <=150:\n",
    "        print(a)\n",
    "\n"
   ]
  },
  {
   "cell_type": "code",
   "execution_count": null,
   "id": "c9e45338-54c2-4d8e-8148-cf2bac076ece",
   "metadata": {},
   "outputs": [],
   "source": [
    "#16 Done Message\n",
    "\n",
    "i= 0\n",
    "while i<5:\n",
    "    i+=1\n",
    "print(\"Done\")"
   ]
  },
  {
   "cell_type": "code",
   "execution_count": 21,
   "id": "c9192a2e-7522-4196-825d-bfe9470ec455",
   "metadata": {},
   "outputs": [
    {
     "name": "stdout",
     "output_type": "stream",
     "text": [
      "3\n",
      "5\n",
      "7\n",
      "9\n",
      "11\n",
      "13\n",
      "15\n",
      "17\n",
      "19\n",
      "21\n",
      "23\n",
      "25\n",
      "27\n",
      "29\n",
      "31\n",
      "33\n",
      "35\n",
      "37\n",
      "39\n",
      "41\n",
      "43\n",
      "45\n",
      "47\n",
      "49\n"
     ]
    }
   ],
   "source": [
    "#17 prime numbers 1 to 50\n",
    "\n",
    "for num in range(2,51):\n",
    "    if num%num==0 and num%1==0 and num%2!=0:\n",
    "        print(num)\n",
    "        \n",
    "        "
   ]
  },
  {
   "cell_type": "code",
   "execution_count": 51,
   "id": "3446c62d-0d5e-4dfd-a611-b2bb4ec05beb",
   "metadata": {},
   "outputs": [
    {
     "name": "stdout",
     "output_type": "stream",
     "text": [
      "1\n",
      "1\n",
      "2\n",
      "3\n",
      "5\n",
      "8\n",
      "13\n",
      "21\n",
      "34\n",
      "55\n",
      "89\n"
     ]
    }
   ],
   "source": [
    "#18 fibonacci series\n",
    "\n",
    "num = 11\n",
    "n=1\n",
    "b=0\n",
    "for i in range(num):\n",
    "    c = n + b\n",
    "    n = b\n",
    "    b = c\n",
    "    print(c)\n",
    "   "
   ]
  },
  {
   "cell_type": "code",
   "execution_count": null,
   "id": "b49e7c0f-fd13-4f9a-a1d6-e86557f184ec",
   "metadata": {},
   "outputs": [],
   "source": [
    "#20 "
   ]
  }
 ],
 "metadata": {
  "kernelspec": {
   "display_name": "Python 3 (ipykernel)",
   "language": "python",
   "name": "python3"
  },
  "language_info": {
   "codemirror_mode": {
    "name": "ipython",
    "version": 3
   },
   "file_extension": ".py",
   "mimetype": "text/x-python",
   "name": "python",
   "nbconvert_exporter": "python",
   "pygments_lexer": "ipython3",
   "version": "3.12.7"
  }
 },
 "nbformat": 4,
 "nbformat_minor": 5
}
