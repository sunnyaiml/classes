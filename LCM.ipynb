{
 "cells": [
  {
   "cell_type": "markdown",
   "id": "01791786-6118-495a-ad10-6c0eb6187e5d",
   "metadata": {},
   "source": [
    "LCM function"
   ]
  },
  {
   "attachments": {},
   "cell_type": "markdown",
   "id": "5c775c9c-6d1a-4e82-b7e2-b7d504e46a38",
   "metadata": {},
   "source": [
    "a*b// gcd(a,b)\n",
    "\n",
    "(n * n2) // HCF \n",
    "\n",
    "gcd = how many number are divisible to a, and b   and the  Multiplication of that common number\n",
    "\n",
    "The LCM of 12 and 18 is 36\n",
    "\n",
    "multiples of 12 = 12, 24, 36, 48; \n",
    "multiples of 18 = 18, 36, 54, 72)''\n",
    "\n",
    "common is 36 so the LCM of a and b is 36 which is 12 and 18 "
   ]
  },
  {
   "cell_type": "code",
   "execution_count": 5,
   "id": "9480cb8a-52c3-4762-8fa3-8e751ba3b081",
   "metadata": {},
   "outputs": [
    {
     "name": "stdin",
     "output_type": "stream",
     "text": [
      "enter the number1:  10\n",
      "enter the number2:  12\n"
     ]
    },
    {
     "name": "stdout",
     "output_type": "stream",
     "text": [
      "This is HCF: 2\n",
      "Factors of 10: {2, 5}\n",
      "Factors of 12: {2, 3, 4, 6}\n",
      "Common Factors: {2}\n",
      "LCM: 60\n"
     ]
    }
   ],
   "source": [
    "set_a=set()\n",
    "set_b=set()\n",
    "\n",
    "def fact(n,n2):\n",
    "    for i in range(2,n):\n",
    "        if n%i==0:\n",
    "            set_a.add(i)\n",
    "            for j in range(2,n2):\n",
    "                if n2%j==0:\n",
    "                    set_b.add(j)\n",
    "    return set_a, set_b\n",
    "\n",
    "\n",
    "def prime(n):\n",
    "    set_c = n.copy()\n",
    "    for j in list(set_c):\n",
    "        for i in range(2, int(j**0.5) + 1):\n",
    "            if j % i == 0:\n",
    "                set_c.remove(j)\n",
    "    return set_c\n",
    "            \n",
    "\n",
    "\n",
    "\n",
    "\n",
    "n=int(input(\"enter the number1: \"))\n",
    "n2=int(input(\"enter the number2: \"))\n",
    "GCB=1\n",
    "if n & n2 <= 1:\n",
    "    print(\"number should be grater than 1 \")\n",
    "    n=int(input(\"enter the number: \"))\n",
    "    n1=int(input(\"enter the number: \"))\n",
    "\n",
    "\n",
    "fact(n, n2)\n",
    "\n",
    "\n",
    "count = 0\n",
    "hcf=set_a & set_b\n",
    "\n",
    "for i in hcf:\n",
    "    if count < i:\n",
    "        count = i\n",
    "\n",
    "\n",
    "HCF = count\n",
    "\n",
    "prime(set_a)\n",
    "prime(set_b)\n",
    "\n",
    "\n",
    "\n",
    "if len(set_a)>len(set_b):\n",
    "    for i in set_a:\n",
    "        for j in set_b:\n",
    "            if j%i==0:\n",
    "                GCB*=i\n",
    "                \n",
    "print(f\"This is HCF: {HCF}\")\n",
    "print(f\"Factors of {n}: {set_a}\")\n",
    "print(f\"Factors of {n2}: {set_b}\")\n",
    "print(f\"Common Factors: {hcf}\")\n",
    "\n",
    "if GCB != 0:\n",
    "    LCM = (n * n2) // HCF \n",
    "    print(f\"LCM: {LCM}\")\n",
    "else:\n",
    "    print(\"GCB is zero it cannot be used in LCM\")\n",
    "\n",
    "\n"
   ]
  },
  {
   "cell_type": "code",
   "execution_count": 37,
   "id": "7e3219ea-af2d-4a69-b6c6-95e5ebeb0c71",
   "metadata": {},
   "outputs": [
    {
     "name": "stdout",
     "output_type": "stream",
     "text": [
      "{2, 3, 4, 6}\n"
     ]
    }
   ],
   "source": [
    "a= {2, 3, 4, 6}\n",
    "b = {2, 3, 4, 6}\n",
    "\n",
    "print(a&b)"
   ]
  },
  {
   "cell_type": "code",
   "execution_count": 65,
   "id": "f318289f-977d-421c-93bd-fb535077b75d",
   "metadata": {},
   "outputs": [
    {
     "name": "stdout",
     "output_type": "stream",
     "text": [
      "2\n",
      "3\n",
      "4\n",
      "6\n",
      "6\n"
     ]
    }
   ],
   "source": [
    "count=0\n",
    "for i in hcf:\n",
    "    print(i)\n",
    "    if count<i:\n",
    "        count = i\n",
    "print(count)"
   ]
  },
  {
   "cell_type": "code",
   "execution_count": 21,
   "id": "50d1c274-ed37-4fad-82b1-05a2f6e6f9a7",
   "metadata": {},
   "outputs": [
    {
     "name": "stdout",
     "output_type": "stream",
     "text": [
      "number1\n"
     ]
    }
   ],
   "source": [
    "\n",
    "\n",
    "\n",
    "def Cal_length(*n):\n",
    "    b = 0\n",
    "    for i in n:\n",
    "        if len(i)>b:\n",
    "            b = len(i)\n",
    "    print(i)\n",
    "\n",
    "Cal_length(\"enter\", \"the\", \"number1\")\n",
    "\n",
    "\n"
   ]
  },
  {
   "cell_type": "code",
   "execution_count": 51,
   "id": "70abe760-0513-4568-992f-e7c1e255bcca",
   "metadata": {},
   "outputs": [
    {
     "name": "stdout",
     "output_type": "stream",
     "text": [
      "Even\n",
      "Even\n",
      "b\n",
      "Even\n",
      "t\n"
     ]
    }
   ],
   "source": [
    "def eve(*n):\n",
    "    for i in n:\n",
    "        if len(i)%2==0:\n",
    "            print(\"Even\")\n",
    "        else:\n",
    "            print(i[0])\n",
    "\n",
    "l = [\"number\", \"should\", \"bea\", \"grater\", \"thqan\"]\n",
    "\n",
    "for i in filter(eve,l):\n",
    "    print(i)\n",
    "    \n",
    "\n",
    "#print(list(filter(eve, l)))\n"
   ]
  },
  {
   "cell_type": "code",
   "execution_count": null,
   "id": "916e8daa-c711-4885-a4b1-b3c7bda6d7c5",
   "metadata": {},
   "outputs": [],
   "source": []
  }
 ],
 "metadata": {
  "kernelspec": {
   "display_name": "Python 3 (ipykernel)",
   "language": "python",
   "name": "python3"
  },
  "language_info": {
   "codemirror_mode": {
    "name": "ipython",
    "version": 3
   },
   "file_extension": ".py",
   "mimetype": "text/x-python",
   "name": "python",
   "nbconvert_exporter": "python",
   "pygments_lexer": "ipython3",
   "version": "3.12.7"
  }
 },
 "nbformat": 4,
 "nbformat_minor": 5
}
