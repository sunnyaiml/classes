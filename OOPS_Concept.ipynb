{
 "cells": [
  {
   "cell_type": "code",
   "execution_count": null,
   "id": "95f325db-a540-4a9b-bf56-ede7081fb0f6",
   "metadata": {},
   "outputs": [],
   "source": [
    "class Area:\n",
    "    def __init__(self, pi=3.14, r= 0):\n",
    "        r = int(input(\"Enter the Radius: \"))\n",
    "        a = pi*r**2\n",
    "        print(f'{a}, cm')\n",
    "\n",
    "\n",
    "c = Area()\n",
    "   "
   ]
  },
  {
   "cell_type": "code",
   "execution_count": null,
   "id": "ec471264-a365-4d04-97dd-cdefaec76caf",
   "metadata": {},
   "outputs": [],
   "source": [
    "class Area:\n",
    "    def __init__ (self, r):\n",
    "        a = 3.14*r**2\n",
    "        print(f'{a}, cm')\n",
    "\n",
    "\n",
    "c = Area(5)\n"
   ]
  },
  {
   "cell_type": "code",
   "execution_count": null,
   "id": "181a4fe1-b009-4158-a4e9-13561db51a75",
   "metadata": {},
   "outputs": [],
   "source": [
    "class Calculator:\n",
    "    def __init__ (self, n1, opr, n3):\n",
    "        if opr == \"+\":\n",
    "            print(n1+n3)\n",
    "\n",
    "\n",
    "b= input(\"enter the operation\")\n",
    "c= list(b)\n",
    "\n",
    "#for i in filter(c):\n",
    " #   if i == \"+\":\n",
    "  #      print(c)\n",
    "\n",
    "        \n",
    "\n",
    "#c = Calculator(5, \"+\", 2)\n"
   ]
  },
  {
   "cell_type": "code",
   "execution_count": null,
   "id": "c188e5e5-39c7-417d-94a6-b17d4f773cab",
   "metadata": {},
   "outputs": [],
   "source": [
    "#2pai*r\n",
    "\n",
    "\n",
    "class Circle:\n",
    "    \n",
    "    pi=3.14\n",
    "    \n",
    "    def __init__(self,r):\n",
    "        self.r= r\n",
    "\n",
    "    def area(self):\n",
    "        aoc = self.pi*r**2\n",
    "        print(aoc)\n",
    "\n",
    "    def cercumference(self):\n",
    "        cercum = 2*self.pi*r\n",
    "        print(cercum)\n",
    "    \n",
    "\n",
    "\n",
    "r=int(input(\"enter the radius: \"))\n",
    "x = Circle(r)\n",
    "\n",
    "x.area()\n",
    "x.cercumference()\n"
   ]
  },
  {
   "cell_type": "code",
   "execution_count": null,
   "id": "e62acc6c-3ab5-434b-9b3d-286669d0d597",
   "metadata": {},
   "outputs": [],
   "source": []
  }
 ],
 "metadata": {
  "kernelspec": {
   "display_name": "Python 3 (ipykernel)",
   "language": "python",
   "name": "python3"
  },
  "language_info": {
   "codemirror_mode": {
    "name": "ipython",
    "version": 3
   },
   "file_extension": ".py",
   "mimetype": "text/x-python",
   "name": "python",
   "nbconvert_exporter": "python",
   "pygments_lexer": "ipython3",
   "version": "3.12.7"
  }
 },
 "nbformat": 4,
 "nbformat_minor": 5
}
