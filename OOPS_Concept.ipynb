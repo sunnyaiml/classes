{
 "cells": [
  {
   "cell_type": "code",
   "execution_count": 112,
   "id": "95f325db-a540-4a9b-bf56-ede7081fb0f6",
   "metadata": {},
   "outputs": [
    {
     "name": "stdin",
     "output_type": "stream",
     "text": [
      "Enter the Radius:  5\n"
     ]
    },
    {
     "name": "stdout",
     "output_type": "stream",
     "text": [
      "78.5, cm\n"
     ]
    }
   ],
   "source": [
    "class Area:\n",
    "    def __init__(self, pi=3.14, r= 0):\n",
    "        r = int(input(\"Enter the Radius: \"))\n",
    "        a = pi*r**2\n",
    "        print(f'{a}, cm')\n",
    "\n",
    "\n",
    "c = Area()\n",
    "   "
   ]
  },
  {
   "cell_type": "code",
   "execution_count": 125,
   "id": "ec471264-a365-4d04-97dd-cdefaec76caf",
   "metadata": {},
   "outputs": [
    {
     "name": "stdout",
     "output_type": "stream",
     "text": [
      "78.5, cm\n"
     ]
    }
   ],
   "source": [
    "class Area:\n",
    "    def __init__ (self, r):\n",
    "        a = 3.14*r**2\n",
    "        print(f'{a}, cm')\n",
    "\n",
    "\n",
    "c = Area(5)\n"
   ]
  },
  {
   "cell_type": "code",
   "execution_count": 187,
   "id": "181a4fe1-b009-4158-a4e9-13561db51a75",
   "metadata": {},
   "outputs": [
    {
     "name": "stdin",
     "output_type": "stream",
     "text": [
      "enter the operation 12+12\n"
     ]
    },
    {
     "ename": "TypeError",
     "evalue": "'list' object is not callable",
     "output_type": "error",
     "traceback": [
      "\u001b[1;31m---------------------------------------------------------------------------\u001b[0m",
      "\u001b[1;31mTypeError\u001b[0m                                 Traceback (most recent call last)",
      "Cell \u001b[1;32mIn[187], line 10\u001b[0m\n\u001b[0;32m      7\u001b[0m b\u001b[38;5;241m=\u001b[39m \u001b[38;5;28minput\u001b[39m(\u001b[38;5;124m\"\u001b[39m\u001b[38;5;124menter the operation\u001b[39m\u001b[38;5;124m\"\u001b[39m)\n\u001b[0;32m      8\u001b[0m c\u001b[38;5;241m=\u001b[39m \u001b[38;5;28mlist\u001b[39m(b)\n\u001b[1;32m---> 10\u001b[0m \u001b[38;5;28;01mfor\u001b[39;00m i \u001b[38;5;129;01min\u001b[39;00m \u001b[38;5;28mfilter\u001b[39m(c, \u001b[38;5;124m\"\u001b[39m\u001b[38;5;124m+\u001b[39m\u001b[38;5;124m\"\u001b[39m):\n\u001b[0;32m     11\u001b[0m     \u001b[38;5;28;01mif\u001b[39;00m i \u001b[38;5;241m==\u001b[39m \u001b[38;5;124m\"\u001b[39m\u001b[38;5;124m+\u001b[39m\u001b[38;5;124m\"\u001b[39m:\n\u001b[0;32m     12\u001b[0m         \u001b[38;5;28mprint\u001b[39m(c)\n",
      "\u001b[1;31mTypeError\u001b[0m: 'list' object is not callable"
     ]
    }
   ],
   "source": [
    "class Calculator:\n",
    "    def __init__ (self, n1, opr, n3):\n",
    "        if opr == \"+\":\n",
    "            print(n1+n3)\n",
    "\n",
    "\n",
    "b= input(\"enter the operation\")\n",
    "c= list(b)\n",
    "\n",
    "for i in filter(c):\n",
    "    if i == \"+\":\n",
    "        print(c)\n",
    "\n",
    "        \n",
    "\n",
    "#c = Calculator(5, \"+\", 2)\n"
   ]
  },
  {
   "cell_type": "code",
   "execution_count": null,
   "id": "c188e5e5-39c7-417d-94a6-b17d4f773cab",
   "metadata": {},
   "outputs": [],
   "source": []
  },
  {
   "cell_type": "code",
   "execution_count": null,
   "id": "e62acc6c-3ab5-434b-9b3d-286669d0d597",
   "metadata": {},
   "outputs": [],
   "source": []
  }
 ],
 "metadata": {
  "kernelspec": {
   "display_name": "Python 3 (ipykernel)",
   "language": "python",
   "name": "python3"
  },
  "language_info": {
   "codemirror_mode": {
    "name": "ipython",
    "version": 3
   },
   "file_extension": ".py",
   "mimetype": "text/x-python",
   "name": "python",
   "nbconvert_exporter": "python",
   "pygments_lexer": "ipython3",
   "version": "3.12.7"
  }
 },
 "nbformat": 4,
 "nbformat_minor": 5
}
