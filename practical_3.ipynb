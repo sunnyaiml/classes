{
 "cells": [
  {
   "cell_type": "code",
   "execution_count": 41,
   "id": "88a80c37-9f60-4bf7-9723-81a1838ddb92",
   "metadata": {},
   "outputs": [
    {
     "name": "stdout",
     "output_type": "stream",
     "text": [
      "j\n",
      "a\n",
      "c\n",
      "k\n"
     ]
    }
   ],
   "source": [
    "name = \"jack\"\n",
    "place=[\"mumbai\", \"kalyan\", \"pune\"]\n",
    "for i in name:\n",
    "    if i ==\"c\":\n",
    "        break\n",
    "    print(i)\n",
    "    \n",
    "    "
   ]
  },
  {
   "cell_type": "code",
   "execution_count": 47,
   "id": "42faaa7b-7d3f-41fa-acfa-e859b37e4a59",
   "metadata": {},
   "outputs": [
    {
     "name": "stdout",
     "output_type": "stream",
     "text": [
      "parbeep mumbai 1\n",
      "parbeep mumbai 2\n",
      "parbeep mumbai 3\n",
      "parbeep kalyan 1\n",
      "parbeep kalyan 2\n",
      "parbeep kalyan 3\n",
      "parbeep pune 1\n",
      "parbeep pune 2\n",
      "parbeep pune 3\n",
      "Pardeep_ki_chachi mumbai 1\n",
      "Pardeep_ki_chachi mumbai 2\n",
      "Pardeep_ki_chachi mumbai 3\n",
      "Pardeep_ki_chachi kalyan 1\n",
      "Pardeep_ki_chachi kalyan 2\n",
      "Pardeep_ki_chachi kalyan 3\n",
      "Pardeep_ki_chachi pune 1\n",
      "Pardeep_ki_chachi pune 2\n",
      "Pardeep_ki_chachi pune 3\n"
     ]
    }
   ],
   "source": [
    "name = [\"parbeep\", \"Pardeep_ki_chachi\"]\n",
    "place=[\"mumbai\", \"kalyan\", \"pune\"]\n",
    "n = [\"1\", \"2\",\"3\"]\n",
    "for i in name:\n",
    "    for j in place:\n",
    "        for k in n:\n",
    "            print(i , j, k)\n",
    "    "
   ]
  },
  {
   "cell_type": "code",
   "execution_count": 67,
   "id": "b6e3105b-e0af-41dd-b601-eebfcbbb82f4",
   "metadata": {},
   "outputs": [
    {
     "name": "stdin",
     "output_type": "stream",
     "text": [
      "enter the num:  12\n"
     ]
    },
    {
     "name": "stdout",
     "output_type": "stream",
     "text": [
      "0\n",
      "2\n",
      "4\n",
      "6\n",
      "8\n",
      "10\n",
      "12\n"
     ]
    }
   ],
   "source": [
    "num = int(input(\"enter the num: \"))\n",
    "\n",
    "for i in range(0,num+1,2):  # (starting point, end point, step)\n",
    "    print(i)"
   ]
  },
  {
   "cell_type": "code",
   "execution_count": null,
   "id": "c5a56636-f70e-4b55-99ba-d552d7b5af9a",
   "metadata": {
    "scrolled": true
   },
   "outputs": [],
   "source": [
    "\n",
    "\n",
    "name=\"sunny\"\n",
    "vov = \"aiou\"\n",
    "\n",
    "for i in name:\n",
    "    if i == \"u\":\n",
    "        continue\n",
    "    print(i)"
   ]
  },
  {
   "cell_type": "code",
   "execution_count": 76,
   "id": "af578fc6-6ed9-4168-bbb8-70750ddd5f29",
   "metadata": {},
   "outputs": [
    {
     "name": "stdout",
     "output_type": "stream",
     "text": [
      "s\n",
      "u\n",
      "u\n",
      "n\n",
      "n\n",
      "y\n"
     ]
    }
   ],
   "source": [
    "name=\"sunny\"\n",
    "vov = \"aiou\"\n",
    "\n",
    "for i in name:\n",
    "    print(i)\n",
    "    for j in vov:\n",
    "        if j == i:\n",
    "            t = j\n",
    "            print(t)\n",
    "            "
   ]
  },
  {
   "cell_type": "code",
   "execution_count": null,
   "id": "a4246776-0621-48ab-be7b-bf30c6293078",
   "metadata": {},
   "outputs": [],
   "source": [
    "name=\"sunny\"\n",
    "vov = \"aiou\"\n",
    "\n",
    "for i in name:\n",
    "    for j in vov:\n",
    "        if j == i:\n",
    "            t = j\n",
    "    print(t)\n",
    "            "
   ]
  },
  {
   "cell_type": "code",
   "execution_count": 78,
   "id": "d9dba63b-36f6-4557-a5aa-f9ed7f28e364",
   "metadata": {},
   "outputs": [
    {
     "name": "stdout",
     "output_type": "stream",
     "text": [
      "s\n",
      "n\n",
      "n\n",
      "y\n"
     ]
    }
   ],
   "source": [
    "name=\"sunny\"\n",
    "vov = \"aiou\"\n",
    "\n",
    "for i in name:\n",
    "    if i in vov :\n",
    "        continue\n",
    "    print(i)\n",
    "            "
   ]
  },
  {
   "cell_type": "markdown",
   "id": "9a1dc698-cb04-4b7d-aaf3-95cd930ef9df",
   "metadata": {},
   "source": [
    "\"IN\"  it is an identity operator which is use to check where something is present in list, tuple, string, number.... etc\n",
    "\n",
    "as you can se in above example in which it has check if any letter present in a string matches with the letter extracted from the for loop."
   ]
  },
  {
   "cell_type": "code",
   "execution_count": null,
   "id": "9fe96595-e896-4923-a928-88b022ab2481",
   "metadata": {},
   "outputs": [],
   "source": [
    "name=\"sunny\"\n",
    "vov = \"aiou\"\n",
    "\n",
    "for i in name:\n",
    "    if i not in vov :\n",
    "        continue\n",
    "    print(i)\n",
    "            "
   ]
  },
  {
   "cell_type": "markdown",
   "id": "75efecd1-81f0-4803-915a-fc86e42c49a3",
   "metadata": {},
   "source": [
    "\"Not in\" it is use to check if the output string number.. etc has not the same value number string letter in that variable \n",
    "\n",
    " if i not in vov:"
   ]
  },
  {
   "cell_type": "code",
   "execution_count": null,
   "id": "f8be8073-febe-46f8-9191-ba8770190822",
   "metadata": {},
   "outputs": [],
   "source": []
  },
  {
   "cell_type": "markdown",
   "id": "59a97bfe-6f86-404a-85f5-949d80730548",
   "metadata": {},
   "source": [
    "In below operator we have use \"IS\" operator to check if that letter u is present in the name or not it work as \"==\"\n",
    "\n",
    "for example:\n",
    "a = \"sum\"\n",
    "b = \"sum\"\n",
    "than a is b"
   ]
  },
  {
   "cell_type": "code",
   "execution_count": null,
   "id": "6deaeca8-b251-438b-abe2-d5052f6aa41f",
   "metadata": {},
   "outputs": [],
   "source": [
    "name=\"sunny\"\n",
    "vov = \"aiou\"\n",
    "\n",
    "for i in name:\n",
    "    if i is \"u\" :\n",
    "        continue\n",
    "    print(i)\n",
    "            "
   ]
  },
  {
   "cell_type": "code",
   "execution_count": null,
   "id": "415f06b5-8f00-4ae4-9a40-4ebec446a90f",
   "metadata": {},
   "outputs": [],
   "source": [
    "\n",
    "\n",
    "\n"
   ]
  },
  {
   "cell_type": "code",
   "execution_count": null,
   "id": "0feed4da-baee-4df1-89c0-7d72599656e9",
   "metadata": {},
   "outputs": [],
   "source": []
  },
  {
   "cell_type": "code",
   "execution_count": 84,
   "id": "85f1649f-d800-4a7e-b23d-40fdfc34e4ab",
   "metadata": {},
   "outputs": [
    {
     "name": "stdout",
     "output_type": "stream",
     "text": [
      "120\n",
      "240\n",
      "720\n",
      "2880\n"
     ]
    }
   ],
   "source": [
    "num = 5\n",
    "\n",
    "for i in range(1,num):\n",
    "    a = i * a\n",
    "    print(a)\n"
   ]
  },
  {
   "cell_type": "code",
   "execution_count": null,
   "id": "43b73338-fc7f-4acb-bd53-050b89ed7b8d",
   "metadata": {},
   "outputs": [],
   "source": [
    "num = int(input(\"enter the num\"))\n",
    "\n",
    "for i in range(1,num):\n",
    "    j = i * num\n",
    "   # print(j)\n",
    "    j += j\n",
    "    \n",
    "    print(j)\n"
   ]
  },
  {
   "cell_type": "markdown",
   "id": "f02f5372-7503-4330-98b9-feb2074c0357",
   "metadata": {},
   "source": [
    "how to find factorial of num "
   ]
  },
  {
   "cell_type": "code",
   "execution_count": 82,
   "id": "7a0de7f0-bcd0-42ee-8f15-726aa1e33e5a",
   "metadata": {},
   "outputs": [
    {
     "name": "stdin",
     "output_type": "stream",
     "text": [
      "Enter the number:  5\n"
     ]
    },
    {
     "name": "stdout",
     "output_type": "stream",
     "text": [
      "Factorial of 5 is 120\n"
     ]
    }
   ],
   "source": [
    "num = int(input(\"Enter the number: \"))\n",
    "t = num\n",
    "for i in range(1,num):\n",
    "    t = t*i\n",
    "print(\"Factorial of\", num ,\"is\",j)"
   ]
  },
  {
   "cell_type": "code",
   "execution_count": null,
   "id": "255f51ff-6f65-428e-a44e-10185e3961f5",
   "metadata": {},
   "outputs": [],
   "source": [
    "\n"
   ]
  }
 ],
 "metadata": {
  "kernelspec": {
   "display_name": "Python 3 (ipykernel)",
   "language": "python",
   "name": "python3"
  },
  "language_info": {
   "codemirror_mode": {
    "name": "ipython",
    "version": 3
   },
   "file_extension": ".py",
   "mimetype": "text/x-python",
   "name": "python",
   "nbconvert_exporter": "python",
   "pygments_lexer": "ipython3",
   "version": "3.12.7"
  }
 },
 "nbformat": 4,
 "nbformat_minor": 5
}
