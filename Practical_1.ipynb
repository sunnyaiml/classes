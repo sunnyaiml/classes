{
 "cells": [
  {
   "cell_type": "markdown",
   "id": "9d9e37f9-b8ea-4098-82a0-0b8cd29c9556",
   "metadata": {},
   "source": [
    "How to use operators"
   ]
  },
  {
   "cell_type": "markdown",
   "id": "cdfc217b-da65-492f-9e6f-b4bbf3fb5513",
   "metadata": {},
   "source": [
    "There are total 7 type of operator\n",
    "\n",
    "1) Arathmatic operator\n",
    "2) Comparision Operator\n",
    "3) Assignment Operator\n",
    "4) Logical Operator\n",
    "5) identity Operator\n",
    "6) Membership Operator\n",
    "7) Bitwise Operator\n",
    "   "
   ]
  },
  {
   "cell_type": "markdown",
   "id": "5b97f801-ca11-4e7e-9182-5a8a16378896",
   "metadata": {},
   "source": [
    "In this page we have used Arathmatic ,logical, Identical, and Membership OpR"
   ]
  },
  {
   "cell_type": "code",
   "execution_count": 3,
   "id": "de5d471e-6695-4eda-8d9b-1c6d18ba90dd",
   "metadata": {},
   "outputs": [
    {
     "name": "stdout",
     "output_type": "stream",
     "text": [
      "jack Sam Janny \n"
     ]
    }
   ],
   "source": [
    "a = \"jack \"\n",
    "b = \"Sam \"\n",
    "c = \"Janny \"\n",
    "\n",
    "print(a+b+c)"
   ]
  },
  {
   "cell_type": "code",
   "execution_count": 4,
   "id": "5b4f5c63-316a-4538-8e72-2455ba4f918b",
   "metadata": {},
   "outputs": [
    {
     "name": "stdout",
     "output_type": "stream",
     "text": [
      "jack + Sam + Janny\n"
     ]
    }
   ],
   "source": [
    "a = \"jack\"\n",
    "b = \"Sam\"\n",
    "c = \"Janny\"\n",
    "\n",
    "print(a, '+', b, '+', c)"
   ]
  },
  {
   "cell_type": "code",
   "execution_count": 106,
   "id": "52e5011f-a509-4a92-b81e-8592655efd53",
   "metadata": {},
   "outputs": [
    {
     "name": "stdout",
     "output_type": "stream",
     "text": [
      "jack Sam Janny\n"
     ]
    }
   ],
   "source": [
    "a = \"jack\"\n",
    "b = \"Sam\"\n",
    "c = \"Janny\"\n",
    "\n",
    "\n",
    "print(a + \" \" + b + \" \" + c)"
   ]
  },
  {
   "cell_type": "code",
   "execution_count": 17,
   "id": "563a1e46-7b98-48a9-90d2-08c265a5d9b7",
   "metadata": {},
   "outputs": [
    {
     "name": "stdout",
     "output_type": "stream",
     "text": [
      "False\n",
      "True\n",
      "True\n",
      "True\n",
      "False\n",
      "True\n"
     ]
    }
   ],
   "source": [
    "a = [\"jack\", \"Sam\", \"Janny\"]\n",
    "b = [\"jack\", \"Sam\", \"Janny\"]\n",
    "\n",
    "print(a is b)\n",
    "print(a is not b)\n",
    "print(a == b)\n",
    "print( \"jack\" in b)\n",
    "print( \"jann\" in b)\n",
    "print( \"jann\" not in b)"
   ]
  },
  {
   "cell_type": "code",
   "execution_count": 25,
   "id": "180233e2-e7d8-4bec-9f89-2f747d2f29d9",
   "metadata": {},
   "outputs": [
    {
     "name": "stdout",
     "output_type": "stream",
     "text": [
      "False\n"
     ]
    }
   ],
   "source": [
    " print(a<b)"
   ]
  },
  {
   "cell_type": "raw",
   "id": "77d55f46-23bd-4c26-9723-93301fe01994",
   "metadata": {},
   "source": [
    "why we Compare List to list it always give false it we be covered in list and tuples practicals\n"
   ]
  },
  {
   "cell_type": "code",
   "execution_count": null,
   "id": "c4e555af-8c2e-4002-8ac0-38c32c3b1d8e",
   "metadata": {},
   "outputs": [],
   "source": []
  },
  {
   "cell_type": "code",
   "execution_count": 39,
   "id": "5e9eaf65-022b-4e91-8e0f-1a089d8ab78f",
   "metadata": {},
   "outputs": [
    {
     "name": "stdout",
     "output_type": "stream",
     "text": [
      "['jack', 'Sam', 'Janny']\n"
     ]
    }
   ],
   "source": [
    "print(\"sam\" in b or a)"
   ]
  },
  {
   "cell_type": "code",
   "execution_count": null,
   "id": "2c8de098-9a61-4238-a7c5-487690337102",
   "metadata": {},
   "outputs": [],
   "source": []
  }
 ],
 "metadata": {
  "kernelspec": {
   "display_name": "Python 3 (ipykernel)",
   "language": "python",
   "name": "python3"
  },
  "language_info": {
   "codemirror_mode": {
    "name": "ipython",
    "version": 3
   },
   "file_extension": ".py",
   "mimetype": "text/x-python",
   "name": "python",
   "nbconvert_exporter": "python",
   "pygments_lexer": "ipython3",
   "version": "3.12.7"
  }
 },
 "nbformat": 4,
 "nbformat_minor": 5
}
