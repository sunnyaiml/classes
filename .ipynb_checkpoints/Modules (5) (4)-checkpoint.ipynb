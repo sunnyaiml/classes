{
 "cells": [
  {
   "cell_type": "markdown",
   "id": "b98c4458-c3f4-4566-aaac-5b64677102ef",
   "metadata": {},
   "source": [
    "Python Modules\n",
    "\n",
    "Additionally, we may import or integrate Python's built-in modules via various methods.\n",
    "\n",
    "What is Modular Programming?\n",
    "Modular programming is the practice of segmenting a single, complicated coding task into multiple, simpler, easier-to-manage sub-tasks. We call these subtasks modules. Therefore, we can build a bigger program by assembling different modules that act like building blocks.\n",
    "\n",
    "Modularizing our code in a big application has a lot of benefits.\n",
    "\n",
    "Simplification: A module often concentrates on one comparatively small area of the overall problem instead of the full task. We will have a more manageable design problem to think about if we are only concentrating on one module. Program development is now simpler and much less vulnerable to mistakes.\n",
    "\n",
    "Flexibility: Modules are frequently used to establish conceptual separations between various problem areas. It is less likely that changes to one module would influence other portions of the program if modules are constructed in a fashion that reduces interconnectedness. (We might even be capable of editing a module despite being familiar with the program beyond it.) It increases the likelihood that a group of numerous developers will be able to collaborate on a big project.\n",
    "\n",
    "Reusability: Functions created in a particular module may be readily accessed by different sections of the assignment (through a suitably established api). As a result, duplicate code is no longer necessary.\n",
    "\n",
    "Scope: Modules often declare a distinct namespace to prevent identifier clashes in various parts of a program.\n",
    "\n",
    "In Python, modularization of the code is encouraged through the use of functions, modules, and packages.\n",
    "\n",
    "What are Modules in Python?\n",
    "A document with definitions of functions and various statements written in Python is called a Python module.\n",
    "\n",
    "    In Python, we can define a module in one of 3 ways:\n",
    "Python itself allows for the creation of modules.\n",
    "\n",
    "Similar to the re (regular expression) module, a module can be primarily written in C programming language and then dynamically inserted at run-time.\n",
    "\n",
    "A built-in module, such as the itertools module, is inherently included in the interpreter.\n",
    "\n",
    "A module is a file containing Python code, definitions of functions, statements, or classes. An example_module.py file is a module we will create and whose name is example_module.\n",
    "\n",
    "We employ modules to divide complicated programs into smaller, more understandable pieces. Modules also allow for the reuse of code.\n",
    "\n",
    "Rather than duplicating their definitions into several applications, we may define our most frequently used functions in a separate module and then import the complete module.\n",
    "\n"
   ]
  },
  {
   "cell_type": "code",
   "execution_count": null,
   "id": "f5238ffb-83f1-43d7-b2bb-a6d154164ff1",
   "metadata": {},
   "outputs": [],
   "source": []
  },
  {
   "cell_type": "markdown",
   "id": "d89e4c91-e9aa-45d2-a1c3-b3ffffc060c1",
   "metadata": {},
   "source": [
    "Python Math Module\n",
    "\n",
    "Introduction\n",
    "\n",
    "We are discussing Math Module in Python. We can easily calculate many mathematical calculations in Python using the Math module. Mathematical calculations may occasionally be required when dealing with specific fiscal or rigorous scientific tasks. Python has a math module that can handle these complex calculations. The functions in the math module can perform simple mathematical calculations like addition (+) and subtraction (-) and advanced mathematical calculations like trigonometric operations and logarithmic operations.\n",
    "\n",
    "This Practical teaches us about applying the math module from fundamentals to more advanced concepts with the support of easy examples to understand the concepts fully. We have included the list of all built-in functions defined in this module for better understanding.\n",
    "\n",
    "What is Math Module in Python?\n",
    "Python has a built-in math module. It is a standard module, so we do not need to install it separately. We only must import it into the program we want to use. We can import the module, like any other module of Python, using import math to implement the functions to perform mathematical operations.\n",
    "\n",
    "Since the source code of this module is in the C language, it provides access to the functionalities of the underlying C library. Here we have given some basic examples of the Math module in Python. The examples are written below -"
   ]
  },
  {
   "cell_type": "code",
   "execution_count": 1,
   "id": "c4ea221d-bd82-4a31-a55d-699dc220a3cd",
   "metadata": {},
   "outputs": [
    {
     "name": "stdout",
     "output_type": "stream",
     "text": [
      "3.0\n"
     ]
    }
   ],
   "source": [
    "# This program will show the calculation of square root using the math module  \n",
    "# importing the math module  \n",
    "import math  \n",
    "print(math.sqrt( 9 ))  "
   ]
  },
  {
   "cell_type": "code",
   "execution_count": 2,
   "id": "c867fc03-928f-4a6b-a9e8-f398dac01664",
   "metadata": {},
   "outputs": [
    {
     "name": "stdin",
     "output_type": "stream",
     "text": [
      " 5\n"
     ]
    },
    {
     "name": "stdout",
     "output_type": "stream",
     "text": [
      "120\n"
     ]
    }
   ],
   "source": [
    "import math  \n",
    "n=int(input())  \n",
    "print(math.factorial(n)) "
   ]
  },
  {
   "cell_type": "code",
   "execution_count": 3,
   "id": "42f0645b-822e-4ca9-80b5-8c64a14163e2",
   "metadata": {},
   "outputs": [
    {
     "name": "stdin",
     "output_type": "stream",
     "text": [
      " 100\n",
      " 5\n"
     ]
    },
    {
     "name": "stdout",
     "output_type": "stream",
     "text": [
      "10000000000.0\n"
     ]
    }
   ],
   "source": [
    "import math  \n",
    "num=int(input())  \n",
    "exp=int(input())  \n",
    "res=math.pow(num, exp)  \n",
    "print(res)  "
   ]
  },
  {
   "cell_type": "code",
   "execution_count": 4,
   "id": "c82f2950-2442-47f6-92bd-d27830746903",
   "metadata": {},
   "outputs": [
    {
     "name": "stdin",
     "output_type": "stream",
     "text": [
      " 90\n",
      " 15\n"
     ]
    },
    {
     "name": "stdout",
     "output_type": "stream",
     "text": [
      "15\n"
     ]
    }
   ],
   "source": [
    "import math  \n",
    "n1=int(input())  \n",
    "n2=int(input())  \n",
    "res=math.gcd(n1,n2)  \n",
    "print(res) "
   ]
  },
  {
   "cell_type": "code",
   "execution_count": 5,
   "id": "97e24cf7-893a-4482-94d6-27e6bc677f3a",
   "metadata": {},
   "outputs": [
    {
     "data": {
      "text/plain": [
       "['__doc__',\n",
       " '__loader__',\n",
       " '__name__',\n",
       " '__package__',\n",
       " '__spec__',\n",
       " 'acos',\n",
       " 'acosh',\n",
       " 'asin',\n",
       " 'asinh',\n",
       " 'atan',\n",
       " 'atan2',\n",
       " 'atanh',\n",
       " 'cbrt',\n",
       " 'ceil',\n",
       " 'comb',\n",
       " 'copysign',\n",
       " 'cos',\n",
       " 'cosh',\n",
       " 'degrees',\n",
       " 'dist',\n",
       " 'e',\n",
       " 'erf',\n",
       " 'erfc',\n",
       " 'exp',\n",
       " 'exp2',\n",
       " 'expm1',\n",
       " 'fabs',\n",
       " 'factorial',\n",
       " 'floor',\n",
       " 'fmod',\n",
       " 'frexp',\n",
       " 'fsum',\n",
       " 'gamma',\n",
       " 'gcd',\n",
       " 'hypot',\n",
       " 'inf',\n",
       " 'isclose',\n",
       " 'isfinite',\n",
       " 'isinf',\n",
       " 'isnan',\n",
       " 'isqrt',\n",
       " 'lcm',\n",
       " 'ldexp',\n",
       " 'lgamma',\n",
       " 'log',\n",
       " 'log10',\n",
       " 'log1p',\n",
       " 'log2',\n",
       " 'modf',\n",
       " 'nan',\n",
       " 'nextafter',\n",
       " 'perm',\n",
       " 'pi',\n",
       " 'pow',\n",
       " 'prod',\n",
       " 'radians',\n",
       " 'remainder',\n",
       " 'sin',\n",
       " 'sinh',\n",
       " 'sqrt',\n",
       " 'tan',\n",
       " 'tanh',\n",
       " 'tau',\n",
       " 'trunc',\n",
       " 'ulp']"
      ]
     },
     "execution_count": 5,
     "metadata": {},
     "output_type": "execute_result"
    }
   ],
   "source": [
    "import math  \n",
    "dir(math)  "
   ]
  },
  {
   "cell_type": "code",
   "execution_count": 6,
   "id": "39adf222-b2aa-45ab-be1c-1c2f582680c9",
   "metadata": {},
   "outputs": [
    {
     "data": {
      "text/plain": [
       "3.141592653589793"
      ]
     },
     "execution_count": 6,
     "metadata": {},
     "output_type": "execute_result"
    }
   ],
   "source": [
    "math.pi"
   ]
  },
  {
   "cell_type": "markdown",
   "id": "23933967-6470-4406-bf5f-638728f34707",
   "metadata": {},
   "source": [
    "1. Ceil() :\n",
    "In the case of the ceiling, it will always return the nearest integer value toward positive. Here we give the program code of ceil() in Python. The code is given below"
   ]
  },
  {
   "cell_type": "code",
   "execution_count": 10,
   "id": "7b1328ec-e7dd-433a-b22b-2be6c3cab50d",
   "metadata": {},
   "outputs": [
    {
     "name": "stdin",
     "output_type": "stream",
     "text": [
      " 5.1\n"
     ]
    },
    {
     "name": "stdout",
     "output_type": "stream",
     "text": [
      "6\n"
     ]
    }
   ],
   "source": [
    "import math  \n",
    "n = eval(input())  \n",
    "res = math.ceil(n)  \n",
    "print(res)  "
   ]
  },
  {
   "cell_type": "code",
   "execution_count": null,
   "id": "0337b8b8-d6bd-41cd-af8b-e19b96b61468",
   "metadata": {},
   "outputs": [],
   "source": [
    "5.1  == 6\n",
    "floor 5.1=5"
   ]
  },
  {
   "cell_type": "markdown",
   "id": "77f17388-9881-497e-9fae-15d827ac8232",
   "metadata": {},
   "source": [
    "2. floor() :\n",
    "In the case of the floor(), it will always return the nearest integer value toward negative. Here we give the program code of floor() in Python. The code is given below -"
   ]
  },
  {
   "cell_type": "markdown",
   "id": "3e04dbbf-8114-4ce5-9fdd-412c5ab5da89",
   "metadata": {},
   "source": [
    "3. fabs() :\n",
    "In the case of fabs(), it will always return the nearest value towards negative. Here we give the program code of fabs() in Python. The code is given below -"
   ]
  },
  {
   "cell_type": "code",
   "execution_count": 12,
   "id": "65a50e3e-3410-4b07-bfe2-11d5a694b233",
   "metadata": {},
   "outputs": [
    {
     "name": "stdin",
     "output_type": "stream",
     "text": [
      " -5\n"
     ]
    },
    {
     "name": "stdout",
     "output_type": "stream",
     "text": [
      "5.0\n"
     ]
    }
   ],
   "source": [
    "import math  \n",
    "n = eval(input())  \n",
    "res = math.fabs(n)  \n",
    "print(res)  "
   ]
  },
  {
   "cell_type": "code",
   "execution_count": null,
   "id": "8c903687-e552-4126-9531-ed6f92efa1cf",
   "metadata": {},
   "outputs": [],
   "source": [
    "import math  \n",
    "print(math.pi)  "
   ]
  },
  {
   "cell_type": "code",
   "execution_count": 13,
   "id": "c9039129-8211-4d00-9c8d-5a8d9b0fdb0b",
   "metadata": {},
   "outputs": [
    {
     "name": "stdin",
     "output_type": "stream",
     "text": [
      " 56\n",
      " 7\n"
     ]
    },
    {
     "name": "stdout",
     "output_type": "stream",
     "text": [
      "Floor Division 8.0\n",
      "Integer Division 8\n",
      "Reminder 0\n"
     ]
    }
   ],
   "source": [
    "#What is the division concept in Python math module?\n",
    "#We write code for the division concept in the Python math module. The code is given below -\n",
    "\n",
    "a = int(input())  \n",
    "b = int(input())  \n",
    "res = a/b  \n",
    "print(\"Floor Division\" , res)  \n",
    "res = a//b  \n",
    "print(\"Integer Division\" , res)  \n",
    "res = a % b  \n",
    "print(\"Reminder\", res)  "
   ]
  },
  {
   "cell_type": "markdown",
   "id": "0df7cba4-ba01-44d6-b951-7929e182ece7",
   "metadata": {},
   "source": [
    "Python Random module\n",
    "\n",
    "The Python Random module is a built-in module for generating random integers in Python. These numbers occur randomly and does not follow any rules or instructions. We can therefore use this module to generate random numbers, display a random item for a list or string, and so on.\n",
    "\n",
    "The random() Function\n",
    "\n",
    "The random.random() function gives a float number that ranges from 0.0 to 1.0. There are no parameters required for this function. This method returns the second random floating-point value within [0.0 and 1] is returned."
   ]
  },
  {
   "cell_type": "code",
   "execution_count": 1,
   "id": "06caca8e-f2dd-4af8-8cb1-caa94d594613",
   "metadata": {},
   "outputs": [],
   "source": [
    "# Python program for generating random float number  \n",
    "import random    \n",
    "num=random.randrange(1,10,2)    \n",
    "print(num)    "
   ]
  },
  {
   "cell_type": "markdown",
   "id": "a2fc0263-7af4-4ef2-b7dc-e3555a71e0d8",
   "metadata": {},
   "source": [
    "The randint() Function\n",
    "\n",
    "The random.randint() function generates a random integer from the range of numbers supplied."
   ]
  },
  {
   "cell_type": "code",
   "execution_count": null,
   "id": "13f17652-f850-4741-806e-04dba3538c19",
   "metadata": {},
   "outputs": [],
   "source": [
    "# Python program for generating a random integer  \n",
    "import random  \n",
    "num = random.randint(1,10)  \n",
    "print( num )  "
   ]
  },
  {
   "cell_type": "markdown",
   "id": "ca786449-9c60-4f49-bcba-f22963bc3e06",
   "metadata": {},
   "source": [
    "The randrange() Function\n",
    "\n",
    "The random.randrange() function selects an item randomly from the given range defined by the start, the stop, and the step parameters. By default, the start is set to 0. Likewise, the step is set to 1 by default."
   ]
  },
  {
   "cell_type": "code",
   "execution_count": null,
   "id": "623fe1f1-c7c8-45a8-b06f-307f21c56937",
   "metadata": {},
   "outputs": [],
   "source": [
    "# To generate value between a specific range  \n",
    "import random    \n",
    "num = random.random()    \n",
    "print( num )    \n",
    "#num = random.randrange(1, 10, 2)    \n",
    "#print( num )            "
   ]
  },
  {
   "cell_type": "markdown",
   "id": "d254069d-9016-41b5-a2e0-71ab1f1b962b",
   "metadata": {},
   "source": [
    "The choice() Function\n",
    "\n",
    "The random.choice() function selects an item from a non-empty series at random. In the given below program, we have defined a string, list and a set. And using the above choice() method, random element is selected."
   ]
  },
  {
   "cell_type": "code",
   "execution_count": 16,
   "id": "b5467b97-18a1-4af1-8a16-12abe0f223e6",
   "metadata": {},
   "outputs": [
    {
     "name": "stdout",
     "output_type": "stream",
     "text": [
      "l\n",
      "45\n",
      "34\n"
     ]
    }
   ],
   "source": [
    "# To select a random element  \n",
    "import random  \n",
    "random_s = random.choice('Random Module') #a string  \n",
    "print( random_s )  \n",
    "random_l = random.choice([23, 54, 765, 23, 45, 45]) #a list  \n",
    "print( random_l )  \n",
    "random_s = random.choice((12, 64, 23, 54, 34)) #a set  \n",
    "print( random_s )  "
   ]
  },
  {
   "cell_type": "markdown",
   "id": "8d010202-3fa3-47f9-b04e-47321d2e3cef",
   "metadata": {},
   "source": [
    "The shuffle() Function\n",
    "\n",
    "The random.shuffle() function shuffles the given list randomly."
   ]
  },
  {
   "cell_type": "code",
   "execution_count": 19,
   "id": "fc4bc106-540c-45fb-a82b-dd352c3af933",
   "metadata": {},
   "outputs": [
    {
     "name": "stdout",
     "output_type": "stream",
     "text": [
      "[23, 86, 23, 34, 65, 43]\n",
      "[86, 34, 23, 43, 65, 23]\n"
     ]
    }
   ],
   "source": [
    "# To shuffle elements in the list  \n",
    "list1 = [34, 23, 65, 86, 23, 43]    \n",
    "random.shuffle( list1 )    \n",
    "print( list1 )    \n",
    "random.shuffle( list1 )    \n",
    "print( list1 )    "
   ]
  },
  {
   "cell_type": "markdown",
   "id": "a50748db-f19d-4eac-afdd-dc1e42f3ec9e",
   "metadata": {},
   "source": [
    "Rock-Paper-Scissor Program using Random Module\n",
    "\n",
    "\n"
   ]
  },
  {
   "cell_type": "code",
   "execution_count": 23,
   "id": "361b90d8-f64f-47f9-9ddb-8303fb9a6360",
   "metadata": {},
   "outputs": [
    {
     "name": "stdin",
     "output_type": "stream",
     "text": [
      " Select any options from 1 - 3 :  1\n"
     ]
    },
    {
     "name": "stdout",
     "output_type": "stream",
     "text": [
      " Option choosed by Machine is:  Scissors\n",
      " Congratulations!! You won! \n"
     ]
    },
    {
     "name": "stdin",
     "output_type": "stream",
     "text": [
      " Want to Play again? ( yes / no )  no\n"
     ]
    },
    {
     "name": "stdout",
     "output_type": "stream",
     "text": [
      " Thanks for playing Rock-Paper-Scissors! \n",
      " This is Rock-Paper-Scissors! \n",
      " Please Enter your choice: \n",
      " choice 1: Rock \n",
      " choice 2: Paper \n",
      " choice 3: Scissors \n"
     ]
    }
   ],
   "source": [
    "\n",
    "# import random module  \n",
    "import random  \n",
    "# Function to play game  \n",
    "def start_game():  \n",
    "    # Print games rules and instructions  \n",
    "    print(\" This is Rock-Paper-Scissors! \")  \n",
    "    print(\" Please Enter your choice: \")  \n",
    "    print(\" choice 1: Rock \")  \n",
    "    print(\" choice 2: Paper \")  \n",
    "    print(\" choice 3: Scissors \")  \n",
    "#To take the user input      \n",
    "choice_user = int(input(\" Select any options from 1 - 3 : \"))  \n",
    "  \n",
    "    # randint() Function which generates a random number by computer  \n",
    "choice_machine = random.randint(1, 3)  \n",
    "  \n",
    "    # display the machines choice  \n",
    "print(\" Option choosed by Machine is: \", end = \" \")  \n",
    "if choice_machine == 1:  \n",
    "    print(\" Rock \")  \n",
    "elif choice_machine == 2:  \n",
    "    print(\"Paper\")  \n",
    "else:  \n",
    "    print(\"Scissors\")  \n",
    "  \n",
    "    # To declare who the winner is  \n",
    "    if choice_user == choice_machine:  \n",
    "        print(\" Wow It's a tie! \")  \n",
    "    elif choice_user == 1 and choice_machine == 3:  \n",
    "        print(\" Congratulations!! You won! \")  \n",
    "    elif choice_user == 2 and choice_machine == 1:  \n",
    "        print(\" Congratulations!! You won! \")  \n",
    "    elif choice_user == 3 and choice_machine == 2:  \n",
    "        print(\" Congratulations!! You won! \")  \n",
    "    else:  \n",
    "        print(\" Sorry! The Machine Won the Game? \")  \n",
    "  \n",
    "    # If user wants to play again  \n",
    "    play_again = input(\" Want to Play again? ( yes / no ) \").lower()  \n",
    "    if play_again == \" yes \":  \n",
    "        start_game()  \n",
    "    else:  \n",
    "        print(\" Thanks for playing Rock-Paper-Scissors! \")  \n",
    "  \n",
    "# Begin the game  \n",
    "start_game()  "
   ]
  },
  {
   "cell_type": "markdown",
   "id": "9bfcc5c1-8786-4e82-8f48-be112b1d3080",
   "metadata": {},
   "source": [
    "Python statistics module\n",
    "\n",
    "Python statistics module provides the functions to mathematical statistics of numeric data. There are some popular statistical functions defined in this module."
   ]
  },
  {
   "cell_type": "markdown",
   "id": "8a1765f9-5457-4e58-af90-a546f0a57aaa",
   "metadata": {},
   "source": [
    "mean() function\n",
    "\n",
    "The mean() function is used to calculate the arithmetic mean of the numbers in the list."
   ]
  },
  {
   "cell_type": "code",
   "execution_count": 24,
   "id": "2522f8c0-07a6-4fe1-96bd-a91425a1422a",
   "metadata": {},
   "outputs": [
    {
     "name": "stdout",
     "output_type": "stream",
     "text": [
      "Mean is : 4.857142857142857\n"
     ]
    }
   ],
   "source": [
    "import statistics    \n",
    "# list of positive integer numbers   \n",
    "datasets = [5, 2, 7, 4, 2, 6, 8]     \n",
    "x = statistics.mean(datasets)     \n",
    "# Printing the mean   \n",
    "print(\"Mean is :\", x)  "
   ]
  },
  {
   "cell_type": "code",
   "execution_count": 25,
   "id": "685d7b31-cc5f-4731-ad00-75a0cc8fe113",
   "metadata": {},
   "outputs": [
    {
     "name": "stdout",
     "output_type": "stream",
     "text": [
      "Median of data-set is : 4.5 \n"
     ]
    }
   ],
   "source": [
    "#The median() function is used to return the middle value of the numeric data in the list.\n",
    "import statistics     \n",
    "datasets = [4, -5, 6, 6, 9, 4, 5, -2]      \n",
    "# Printing median of the   \n",
    "# random data-set   \n",
    "print(\"Median of data-set is : % s \"  \n",
    "        % (statistics.median(datasets)))  "
   ]
  },
  {
   "cell_type": "code",
   "execution_count": 26,
   "id": "0f49bc65-f72b-4024-b7e1-784179e0b9c5",
   "metadata": {},
   "outputs": [
    {
     "name": "stdout",
     "output_type": "stream",
     "text": [
      "Calculated Mode 2\n"
     ]
    }
   ],
   "source": [
    "#The mode() function returns the most common data that occurs in the list.\n",
    "import statistics     \n",
    "# declaring a simple data-set consisting of real valued positive integers.   \n",
    "dataset =[2, 4, 7, 7, 2, 2, 3, 6, 6, 8]     \n",
    "# Printing out the mode of given data-set   \n",
    "print(\"Calculated Mode % s\" % (statistics.mode(dataset)))  "
   ]
  },
  {
   "cell_type": "code",
   "execution_count": 27,
   "id": "c4d69fd8-e6ea-43c0-9228-39ab7e800ce7",
   "metadata": {},
   "outputs": [
    {
     "name": "stdout",
     "output_type": "stream",
     "text": [
      "Standard Deviation of sample is 1.5811388300841898 \n"
     ]
    }
   ],
   "source": [
    "#The stdev() function is used to calculate the standard deviation on a given sample which is available in the form of the list.\n",
    "import statistics     \n",
    "# creating a simple data - set   \n",
    "sample = [7, 8, 9, 10, 11]     \n",
    "# Prints standard deviation   \n",
    "print(\"Standard Deviation of sample is % s \"   \n",
    "                % (statistics.stdev(sample)))   "
   ]
  },
  {
   "cell_type": "code",
   "execution_count": 28,
   "id": "d7f2bd02-5c33-4f56-acdb-7a26a1d7cf0a",
   "metadata": {},
   "outputs": [],
   "source": [
    "import datetime"
   ]
  },
  {
   "cell_type": "code",
   "execution_count": 29,
   "id": "509761b2-7c75-4553-9d20-c34743536c6a",
   "metadata": {},
   "outputs": [
    {
     "name": "stdout",
     "output_type": "stream",
     "text": [
      "2025-04-29 14:25:09.407351\n"
     ]
    }
   ],
   "source": [
    "a=datetime.datetime.today()\n",
    "print(a)"
   ]
  },
  {
   "cell_type": "code",
   "execution_count": 35,
   "id": "2fadf07a-6c62-421f-a40c-a7e9786f6971",
   "metadata": {},
   "outputs": [
    {
     "name": "stdout",
     "output_type": "stream",
     "text": [
      "2025\n",
      "02:25:09 PM\n"
     ]
    }
   ],
   "source": [
    "#import datetime\n",
    "#a=datetime.datetime.today()\n",
    "print(a.year)\n",
    "print(a.strftime(\"%r\"))"
   ]
  },
  {
   "cell_type": "markdown",
   "id": "ae491fe9-f7e9-4c33-8691-a7dfda5a14c1",
   "metadata": {},
   "source": [
    "Python Regex - RegEx Functions | Metacharacters | Special Sequences\n",
    "A regular expression is a set of characters with highly specialized syntax that \n",
    "we can use to find or match other characters or groups of characters. \n",
    "In short, regular expressions, or Regex, are widely used in the UNIX world."
   ]
  },
  {
   "cell_type": "code",
   "execution_count": null,
   "id": "36655c0c-1481-4d49-bd43-346326e0858e",
   "metadata": {},
   "outputs": [],
   "source": [
    "Metacharacters or Special Characters\n",
    "As the name suggests, there are some characters with special meanings:\n",
    "\n",
    "Characters    Meaning\n",
    ". Dot -           It matches any characters except the newline character.\n",
    "^ Caret -         It is used to match the pattern from the start of the string. (Starts With)\n",
    "$ Dollar -        It matches the end of the string before the new line character. (Ends with)\n",
    "* Asterisk -      It matches zero or more occurrences of a pattern.\n",
    "+ Plus -          It is used when we want a pattern to match at least one.\n",
    "? Question mark - It matches zero or one occurrence of a pattern.\n",
    "{} Curly Braces - It matches the exactly specified number of occurrences of a pattern\n",
    "[] Bracket - It defines the set of characters\n",
    "| Pipe - It matches any of two defined patterns.\n"
   ]
  },
  {
   "cell_type": "markdown",
   "id": "403d2b28-d7d5-43fe-a7c5-6220f0f6f920",
   "metadata": {},
   "source": [
    "Special Sequences:\n",
    "The ability to match different sets of symbols will be the first feature regular expressions can achieve that's not previously achievable with string techniques. On the other hand, Regexes isn't much of an improvement if that had been their only extra capacity. We can also define that some sections of the RE must be reiterated a specified number of times.\n",
    "\n",
    "The first metacharacter we'll examine for recurring occurrences is *. Instead of matching the actual character '*,' * signals that the preceding letter can be matched 0 or even more times rather than exactly once.\n",
    "\n",
    "Ba*t, for example, matches 'bt' (zero 'a' characters), 'bat' (one 'a' character), 'baaat' (three 'a' characters), etc.\n",
    "\n",
    "Greedy repetitions, such as *, cause the matching algorithm to attempt to replicate the RE as many times as feasible. If later elements of the sequence fail to match, the matching algorithm will retry with lesser repetitions.\r\n",
    "\r\n",
    "Special Sequences consist of '\\' followed by a character listed below. Each character has a different meanin\n",
    "\n",
    "Character      \n",
    "Meangg                        d\r\n",
    "It matches any digit and is equivalent to [0-9].                            \n",
    " D           \\D\r\n",
    "It matches any non-digit character and is equivalent to [^0-9                                         \r\n",
    "\\s\r\n",
    "It matches any white space character and is equiv\n",
    "             al nt to [\\t\\n\\r\\                             v]\r\n",
    "\\S\r\n",
    "It matches any character except the white space character and              equiv        alent to [^\\t\\n\\                     f\\v]\r\n",
    "\\w\r\n",
    "It matches any alphanumeric character and is equivalent to [a-                     -Z0-9]\r\n",
    "\\W\r\n",
    "It matches any characters except the alphanumeric cha            s equivalent to [^           -zA-Z0-9]\r\n",
    "\\A\r\n",
    "It matches the defined pattern at of           the string.\r\n",
    "\\b\r\n",
    "r\"\\bxt\" - It matches the paa w             ord in a string.\r\n",
    "r\"xt\\b\" - It matches therf a wo          d in a strie s is th            opposite of \\b.\r\n",
    "\\Z\r\n",
    "It returns a match object w then the pattern is a end of the string.g."
   ]
  },
  {
   "cell_type": "markdown",
   "id": "61d8ce9e-5f9a-4a95-a231-d46c4ecb9595",
   "metadata": {},
   "source": [
    "RegEx Functions:\n",
    "compile -   It is used to turn a regular pattern into an object of a regular expression that may be used in a number of ways for matching patterns in a string.\n",
    "search -    It is used to find the first occurrence of a regex pattern in a given string.\n",
    "match -     It starts matching the pattern at the beginning of the string.\n",
    "fullmatch - It is used to match the whole string with a regex pattern.\n",
    "split -     It is used to split the pattern based on the regex pattern.\n",
    "findall -   It is used to find all non-overlapping patterns in a string. It returns a list              of matched patterns.\n",
    "finditer -  It returns an iterator that yields match objects.\n",
    "sub -       It returns a string after substituting the first occurrence of the pattern by               the replacement.\n",
    "subn -      It works the same as 'sub'. It returns a tuple\n",
    "           (new_string,num_of_substitution).\n",
    "escape -    It is used to escape special characters in a pattern.\n",
    "purge -     It is used to clear the regex expression cache."
   ]
  },
  {
   "cell_type": "code",
   "execution_count": 36,
   "id": "8b7267a6-a676-4c03-8495-5104794c2be4",
   "metadata": {},
   "outputs": [],
   "source": [
    "import re"
   ]
  },
  {
   "cell_type": "code",
   "execution_count": 37,
   "id": "302bd269-de96-4bd6-884c-9f5ff41e6c80",
   "metadata": {},
   "outputs": [
    {
     "name": "stdout",
     "output_type": "stream",
     "text": [
      "<re.Match object; span=(0, 17), match='The rain in Spain'>\n"
     ]
    }
   ],
   "source": [
    "import re\n",
    "\n",
    "txt = \"The rain in Spain\"\n",
    "x = re.search(\"^The.*Spain$\", txt)\n",
    "print(x)"
   ]
  },
  {
   "cell_type": "code",
   "execution_count": 39,
   "id": "48572636-616e-487c-91a8-45780545f20a",
   "metadata": {},
   "outputs": [
    {
     "name": "stdout",
     "output_type": "stream",
     "text": [
      "['ai', 'ai', 'ai']\n"
     ]
    }
   ],
   "source": [
    "import re\n",
    "\n",
    "txt = \"The rain in Spain ai\"\n",
    "x = re.findall(\"ai\", txt)\n",
    "print(x)"
   ]
  },
  {
   "cell_type": "code",
   "execution_count": 41,
   "id": "c8bf2836-4004-4862-9275-ea22fbb71594",
   "metadata": {},
   "outputs": [
    {
     "name": "stdout",
     "output_type": "stream",
     "text": [
      "['The', 'rain', 'in', 'Spain']\n"
     ]
    }
   ],
   "source": [
    "import re\n",
    "\n",
    "txt = \"The rain in Spain\"\n",
    "x = re.split(\" \", txt)\n",
    "print(x)"
   ]
  },
  {
   "cell_type": "code",
   "execution_count": 42,
   "id": "17933aec-cf58-4eaf-885e-9df10c31c578",
   "metadata": {},
   "outputs": [
    {
     "name": "stdout",
     "output_type": "stream",
     "text": [
      "The9rain9in9Spain\n"
     ]
    }
   ],
   "source": [
    "import re\n",
    "\n",
    "txt = \"The rain in Spain\"\n",
    "x = re.sub(\"\\s\", \"9\", txt)\n",
    "print(x)"
   ]
  },
  {
   "cell_type": "code",
   "execution_count": null,
   "id": "22759a61-dd21-45e8-b8f3-ff7ab7c34b98",
   "metadata": {},
   "outputs": [],
   "source": [
    "for i in range(10):\n",
    "    print(i)\n",
    "    time.sleep(1)"
   ]
  },
  {
   "cell_type": "code",
   "execution_count": null,
   "id": "9689a772-b56f-47d3-ac4e-a7e819178192",
   "metadata": {},
   "outputs": [],
   "source": []
  },
  {
   "cell_type": "code",
   "execution_count": null,
   "id": "7eabc638-f3d8-4bd4-957e-10abcbec191a",
   "metadata": {},
   "outputs": [],
   "source": []
  },
  {
   "cell_type": "code",
   "execution_count": null,
   "id": "2a830ee9-d4af-4232-8556-2797604b418d",
   "metadata": {},
   "outputs": [],
   "source": [
    "print(8+4%4)"
   ]
  },
  {
   "cell_type": "code",
   "execution_count": null,
   "id": "ada336c1-7ee7-4c18-9552-a89e4e8b2c2c",
   "metadata": {},
   "outputs": [],
   "source": [
    "import time"
   ]
  },
  {
   "cell_type": "code",
   "execution_count": null,
   "id": "325402fb-9775-4e7f-a1df-38e8ea86880d",
   "metadata": {},
   "outputs": [],
   "source": [
    "for i in range(10):\n",
    "    print(i)\n",
    "    time.sleep(2)"
   ]
  },
  {
   "cell_type": "code",
   "execution_count": null,
   "id": "dbfd109e-8512-443f-84ad-3e275bc02ecc",
   "metadata": {},
   "outputs": [],
   "source": [
    "l=['green','red','yellow','black','white']\n",
    "x='-'.join(l)\n",
    "print(x)\n"
   ]
  },
  {
   "cell_type": "code",
   "execution_count": null,
   "id": "4813e6a0-2254-4d69-beff-7af9152a16ad",
   "metadata": {},
   "outputs": [],
   "source": [
    "l.sort()\n",
    "print(l)"
   ]
  },
  {
   "cell_type": "code",
   "execution_count": null,
   "id": "966b3502-4bd3-4ce4-86d1-db36dba491ab",
   "metadata": {},
   "outputs": [],
   "source": []
  }
 ],
 "metadata": {
  "kernelspec": {
   "display_name": "Python 3 (ipykernel)",
   "language": "python",
   "name": "python3"
  },
  "language_info": {
   "codemirror_mode": {
    "name": "ipython",
    "version": 3
   },
   "file_extension": ".py",
   "mimetype": "text/x-python",
   "name": "python",
   "nbconvert_exporter": "python",
   "pygments_lexer": "ipython3",
   "version": "3.11.5"
  }
 },
 "nbformat": 4,
 "nbformat_minor": 5
}
