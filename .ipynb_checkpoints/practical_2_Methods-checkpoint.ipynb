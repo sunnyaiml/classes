{
 "cells": [
  {
   "cell_type": "markdown",
   "id": "1f46266d-19e5-40d8-b7b9-d50938b9abd1",
   "metadata": {},
   "source": [
    "Methods\n"
   ]
  },
  {
   "cell_type": "code",
   "execution_count": 7,
   "id": "eb9f77ab-91f7-407f-bc32-68066b7bc9b5",
   "metadata": {},
   "outputs": [],
   "source": [
    "a = [\"jack\", \"jen\", \"jenny\"]\n",
    "b = \"This is a practice Sentences\""
   ]
  },
  {
   "cell_type": "code",
   "execution_count": 15,
   "id": "6a98835d-389e-4143-a2c8-09ba288c030e",
   "metadata": {},
   "outputs": [
    {
     "name": "stdout",
     "output_type": "stream",
     "text": [
      "My Name is jack and i am 40 Year Old and i like to do this Something\n"
     ]
    }
   ],
   "source": [
    "name = 'jack'\n",
    "age = 40\n",
    "does = \"Something\"\n",
    "\n",
    "p = \"My Name is {} and i am {} Year Old and i like to do this {}\"\n",
    "print(p.format(name, age, does))"
   ]
  },
  {
   "cell_type": "code",
   "execution_count": null,
   "id": "257c5060-79e2-47be-b4a4-cd4aa363c7f0",
   "metadata": {},
   "outputs": [],
   "source": []
  },
  {
   "cell_type": "code",
   "execution_count": null,
   "id": "ba61382b-7112-4590-8027-a802424286b3",
   "metadata": {},
   "outputs": [],
   "source": []
  }
 ],
 "metadata": {
  "kernelspec": {
   "display_name": "Python 3 (ipykernel)",
   "language": "python",
   "name": "python3"
  },
  "language_info": {
   "codemirror_mode": {
    "name": "ipython",
    "version": 3
   },
   "file_extension": ".py",
   "mimetype": "text/x-python",
   "name": "python",
   "nbconvert_exporter": "python",
   "pygments_lexer": "ipython3",
   "version": "3.12.7"
  }
 },
 "nbformat": 4,
 "nbformat_minor": 5
}
