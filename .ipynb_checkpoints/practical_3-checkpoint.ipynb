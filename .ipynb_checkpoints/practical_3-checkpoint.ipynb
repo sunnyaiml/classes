{
 "cells": [
  {
   "cell_type": "code",
   "execution_count": null,
   "id": "9ef7b4a2-3c88-4d34-9ef2-831ab95098e7",
   "metadata": {},
   "outputs": [],
   "source": []
  }
 ],
 "metadata": {
  "kernelspec": {
   "display_name": "",
   "name": ""
  },
  "language_info": {
   "name": ""
  }
 },
 "nbformat": 4,
 "nbformat_minor": 5
}
