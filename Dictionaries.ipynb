{
 "cells": [
  {
   "cell_type": "markdown",
   "id": "bef76cec-3d15-4417-9e2d-85119d6b5793",
   "metadata": {},
   "source": [
    "# Dictionaries and its methods\n",
    "\n",
    "\n",
    "\n",
    "\n",
    " keys is the key of some value it is like a varibale holding some value in it \n",
    "\n",
    " Value is the value inside the key\n",
    "\n",
    " \"Get\" is the method in which we use to ge the value inside the key it take only one value as the key\n",
    "\n",
    " \"Fromkeys\" it is use to assign the value in the for the key in distionary. a single value assign to a key.   \n",
    "\n",
    " \"pop\" it is the method is use to remove the items from the distionry\n",
    "\n",
    " \"popitems\" it is use to remove the item from the keys in the distionry\n",
    "\n",
    " \"Setdefault\" it is use to add the key and value in the distionry and if there is similar key and value it will not add it in the distionry\n",
    "\n",
    " \"copy\" is use to copy the value from the distionary to any other distionry\n",
    "\n",
    " \"update\"  is use to  update the value in the distionry\n",
    "\n",
    " \"Del\" is use to delete the distionry\n"
   ]
  },
  {
   "cell_type": "code",
   "execution_count": 84,
   "id": "a8efe009-a263-4abe-9afb-11faad2750d5",
   "metadata": {},
   "outputs": [
    {
     "name": "stdout",
     "output_type": "stream",
     "text": [
      "{'brand': 1, 'model': 1, 'year': 1}\n"
     ]
    }
   ],
   "source": [
    " dist = { \n",
    "\"brand\": \"Ford\", \n",
    "\"model\": \"Mustang\", \n",
    "\"year\": 1964 \n",
    "}\n",
    "set2 = {\"google\", \"microsoft\", \"apple\"}\n",
    "\n",
    "#print(dist.keys())\n",
    "#print(dist.values())\n",
    "#rint(dist.get(\"brand\"))\n",
    "#print(dist.get(\"model\"))\n",
    "\n",
    "\n",
    "#print(dist.fromkeys(dist, 1))\n",
    "#print(dist.pop(\"model\"))\n",
    "#print(dist)\n",
    "\n",
    "#print(dist.popitem())\n",
    "#dist.setdefault(\"name\",\"jack\")\n",
    "#print(dist)\n"
   ]
  },
  {
   "cell_type": "code",
   "execution_count": 90,
   "id": "fd0752d9-d2ee-447b-8569-8391e943a912",
   "metadata": {},
   "outputs": [
    {
     "name": "stdout",
     "output_type": "stream",
     "text": [
      "brand\n",
      "model\n",
      "year\n"
     ]
    }
   ],
   "source": [
    "\n",
    "for i in dist:\n",
    "    print(i)"
   ]
  },
  {
   "cell_type": "code",
   "execution_count": 96,
   "id": "2e4d9f66-ff8b-45a9-b5f0-7951ad8995db",
   "metadata": {},
   "outputs": [
    {
     "name": "stdout",
     "output_type": "stream",
     "text": [
      "brand Ford\n",
      "model Mustang\n",
      "year 1964\n"
     ]
    }
   ],
   "source": [
    "for x, y in dist.items():\n",
    "    print(x,y)"
   ]
  },
  {
   "cell_type": "code",
   "execution_count": 8,
   "id": "abd55a32-fb44-479a-a5bd-6e1deda50e17",
   "metadata": {},
   "outputs": [
    {
     "name": "stdout",
     "output_type": "stream",
     "text": [
      "{'sunny', 'apple'}\n"
     ]
    }
   ],
   "source": [
    "\n",
    "\n",
    "lis = [\"sunny\",\"sunny\", \"apple\", \"jack\", \"apple\", \"Deep\"]\n",
    "\n",
    "\n",
    "\n",
    "s = set(lis)\n",
    "\n",
    "lis = s\n",
    "\n",
    "print(lis)"
   ]
  },
  {
   "cell_type": "code",
   "execution_count": null,
   "id": "caf909c9-613c-4b2f-a06c-010ba0fb3e0b",
   "metadata": {},
   "outputs": [],
   "source": [
    "\n",
    "\n",
    "lis = [\"sunny\",\"sunny\", \"apple\", \"jack\", \"apple\", \"Deep\"]"
   ]
  }
 ],
 "metadata": {
  "kernelspec": {
   "display_name": "Python 3 (ipykernel)",
   "language": "python",
   "name": "python3"
  },
  "language_info": {
   "codemirror_mode": {
    "name": "ipython",
    "version": 3
   },
   "file_extension": ".py",
   "mimetype": "text/x-python",
   "name": "python",
   "nbconvert_exporter": "python",
   "pygments_lexer": "ipython3",
   "version": "3.12.7"
  }
 },
 "nbformat": 4,
 "nbformat_minor": 5
}
