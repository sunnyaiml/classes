{
 "cells": [
  {
   "cell_type": "code",
   "execution_count": 1,
   "id": "e7ad4c6d-1205-40c2-99b9-9bfb478af554",
   "metadata": {},
   "outputs": [
    {
     "name": "stdout",
     "output_type": "stream",
     "text": [
      "['apple', 'banana', 'mango', 'pinapple', 'jackfruit']\n"
     ]
    }
   ],
   "source": [
    "\n",
    "l = [\"apple\", \"banana\", \"mango\", \"pinapple\", \"jackfruit\"]\n",
    "q = []\n",
    "for i in range(len(l)):\n",
    "    q.append(l[i])\n",
    "print(q)"
   ]
  },
  {
   "cell_type": "code",
   "execution_count": 2,
   "id": "cb542fa3-4342-47fb-b9d6-11870792a50a",
   "metadata": {},
   "outputs": [
    {
     "ename": "IndexError",
     "evalue": "pop index out of range",
     "output_type": "error",
     "traceback": [
      "\u001b[1;31m---------------------------------------------------------------------------\u001b[0m",
      "\u001b[1;31mIndexError\u001b[0m                                Traceback (most recent call last)",
      "Cell \u001b[1;32mIn[2], line 4\u001b[0m\n\u001b[0;32m      2\u001b[0m q \u001b[38;5;241m=\u001b[39m []\n\u001b[0;32m      3\u001b[0m \u001b[38;5;28;01mfor\u001b[39;00m i \u001b[38;5;129;01min\u001b[39;00m \u001b[38;5;28mrange\u001b[39m(\u001b[38;5;28mlen\u001b[39m(l)):\n\u001b[1;32m----> 4\u001b[0m     \u001b[43ml\u001b[49m\u001b[38;5;241;43m.\u001b[39;49m\u001b[43mpop\u001b[49m\u001b[43m(\u001b[49m\u001b[43mi\u001b[49m\u001b[43m)\u001b[49m\n\u001b[0;32m      5\u001b[0m \u001b[38;5;28mprint\u001b[39m(q)\n",
      "\u001b[1;31mIndexError\u001b[0m: pop index out of range"
     ]
    }
   ],
   "source": [
    "\n",
    "l = [\"apple\", \"banana\", \"mango\", \"pinapple\", \"jackfruit\"]\n",
    "q = []\n",
    "for i in range(len(l)):\n",
    "    l.pop(i)\n",
    "print(q)"
   ]
  },
  {
   "cell_type": "code",
   "execution_count": 10,
   "id": "a073f4aa-a57c-421d-bd93-30aed4445d9f",
   "metadata": {},
   "outputs": [
    {
     "name": "stdout",
     "output_type": "stream",
     "text": [
      "156416\n"
     ]
    }
   ],
   "source": [
    "a = [33, 45, 67, 89, 200, 12, 156416]\n",
    "b = 0\n",
    "for i in a:\n",
    "    if i > b:\n",
    "        b = i\n",
    "print(b)\n"
   ]
  },
  {
   "cell_type": "code",
   "execution_count": 12,
   "id": "5510b526-a8b4-48bd-9ad0-e595e902282a",
   "metadata": {},
   "outputs": [
    {
     "name": "stdout",
     "output_type": "stream",
     "text": [
      "156416\n"
     ]
    }
   ],
   "source": [
    "a = [33, 45, 67, 89, 200, 12, 156416]\n",
    "i = 0\n",
    "b = 0\n",
    "while i < len(a):\n",
    "    if a[i] > b:\n",
    "        b = a[i]\n",
    "    i+=1\n",
    "print(b)"
   ]
  },
  {
   "cell_type": "code",
   "execution_count": 14,
   "id": "4676eaa2-729b-4850-9152-a4bb80d29489",
   "metadata": {},
   "outputs": [
    {
     "name": "stdout",
     "output_type": "stream",
     "text": [
      "yes 89 is there in this index 3\n"
     ]
    }
   ],
   "source": [
    "a = [33, 45, 67, 89, 200, 12, 156416]\n",
    "b = 0\n",
    "for i in a:\n",
    "    if i == 89:\n",
    "        print(f\"yes {i} is there in this index {a.index(89)}\")"
   ]
  },
  {
   "cell_type": "code",
   "execution_count": 16,
   "id": "b4d6252f-a150-4ebc-8850-2854941b1ada",
   "metadata": {},
   "outputs": [
    {
     "name": "stdout",
     "output_type": "stream",
     "text": [
      "yes 89 is there in this index 3\n"
     ]
    }
   ],
   "source": [
    "a = [33, 45, 67, 89, 200, 12, 156416]\n",
    "\n",
    "if 89 in a:\n",
    "    print(f\"yes 89 is there in this index {a.index(89)}\")\n",
    "    "
   ]
  },
  {
   "cell_type": "code",
   "execution_count": 18,
   "id": "45204733-eaa8-40da-a2fa-ae96c04a9c28",
   "metadata": {},
   "outputs": [
    {
     "name": "stdout",
     "output_type": "stream",
     "text": [
      "2\n"
     ]
    }
   ],
   "source": [
    "a = [33, 45, 67, 89, 200, 12, 156416, 45]\n",
    "\n",
    "for i in a:\n",
    "    if i ==45:\n",
    "        b+=1\n",
    "print(b)"
   ]
  },
  {
   "cell_type": "code",
   "execution_count": 20,
   "id": "3815ab21-dcde-44a3-b92c-927560d08da4",
   "metadata": {},
   "outputs": [
    {
     "name": "stdout",
     "output_type": "stream",
     "text": [
      "33\n",
      "45\n",
      "67\n",
      "89\n",
      "200\n",
      "12\n",
      "156416\n",
      "45\n"
     ]
    },
    {
     "data": {
      "text/plain": [
       "['apple', 'mango', 'Banana']"
      ]
     },
     "execution_count": 20,
     "metadata": {},
     "output_type": "execute_result"
    }
   ],
   "source": [
    "a = [33, 45, 67, 89, 200, 12, 156416, 45]\n",
    "[print(x) for x in a] \n",
    "\n",
    "fruits = [\"apple\", \"mango\", \"Banana\", \"kiwi\"]\n",
    "[x for x in fruits if \"a\" in x] "
   ]
  },
  {
   "cell_type": "code",
   "execution_count": null,
   "id": "60494109-288a-4543-a816-21cb22476066",
   "metadata": {},
   "outputs": [],
   "source": []
  },
  {
   "cell_type": "code",
   "execution_count": null,
   "id": "6e960a9a-7a9f-4550-97ec-4068a681346f",
   "metadata": {},
   "outputs": [],
   "source": []
  },
  {
   "cell_type": "code",
   "execution_count": null,
   "id": "649428ad-7bea-4e6e-b604-c86184be4a41",
   "metadata": {},
   "outputs": [],
   "source": []
  },
  {
   "cell_type": "code",
   "execution_count": null,
   "id": "302a42d1-45e4-4cd3-b29a-dd1d82d88165",
   "metadata": {},
   "outputs": [],
   "source": []
  }
 ],
 "metadata": {
  "kernelspec": {
   "display_name": "Python 3 (ipykernel)",
   "language": "python",
   "name": "python3"
  },
  "language_info": {
   "codemirror_mode": {
    "name": "ipython",
    "version": 3
   },
   "file_extension": ".py",
   "mimetype": "text/x-python",
   "name": "python",
   "nbconvert_exporter": "python",
   "pygments_lexer": "ipython3",
   "version": "3.12.7"
  }
 },
 "nbformat": 4,
 "nbformat_minor": 5
}
