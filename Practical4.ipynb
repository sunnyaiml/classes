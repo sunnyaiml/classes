{
 "cells": [
  {
   "cell_type": "code",
   "execution_count": 1,
   "id": "bcc32b73-3b77-47d2-95c6-77c6373fa3af",
   "metadata": {},
   "outputs": [
    {
     "name": "stdout",
     "output_type": "stream",
     "text": [
      "2\n",
      "4\n",
      "6\n",
      "8\n",
      "10\n",
      "12\n",
      "14\n",
      "16\n",
      "18\n",
      "20\n",
      "2468101214161820\n",
      "0281614121018642\n"
     ]
    }
   ],
   "source": [
    "# 5 print first 10 even number in reverse order\n",
    "\n",
    "\n",
    "j = \"\"\n",
    "for i in range(1, 22):\n",
    "    if i%2==0:\n",
    "        j += str(i)\n",
    "        print(i)\n",
    "print(j)\n",
    "print(j[::-1])"
   ]
  },
  {
   "cell_type": "code",
   "execution_count": 2,
   "id": "85b1b3f3-6873-4f8c-81b4-c92a394c5732",
   "metadata": {},
   "outputs": [
    {
     "name": "stdout",
     "output_type": "stream",
     "text": [
      "24\n",
      "22\n",
      "20\n",
      "18\n",
      "16\n",
      "14\n",
      "12\n",
      "10\n",
      "8\n",
      "6\n",
      "4\n"
     ]
    }
   ],
   "source": [
    "for i in range(24, 2, -2):  # (Start, end, step)\n",
    "    print(i)"
   ]
  },
  {
   "cell_type": "raw",
   "id": "559d3ba4-c9d0-411a-b289-35c17de4f7df",
   "metadata": {},
   "source": [
    "there are different way's to use the range function from \" Stright to reverse  \"\n",
    "\n",
    "\n",
    "#                 (1, 20, 2)  1 se start hoga and wo 20 ko end hoga by skiping 2 number\n",
    "\n",
    "#                  (20, 1, 2) it wil not show any thing for out put because your start is 24 and end is 1, how can one start from the last stop  \n",
    "\n",
    "        # TO RUN THIS WE HAVE TO Use \" - \" to run in reverse order like our train reversing it self from last stop \n",
    "\n",
    "\n",
    "#                 (20, 2, -1) this will run in the reverse order form start 20 to last 2 \n",
    "     \n",
    "\n"
   ]
  },
  {
   "cell_type": "code",
   "execution_count": 3,
   "id": "75f2ade2-e669-4a00-b0be-15abb74a6962",
   "metadata": {},
   "outputs": [
    {
     "name": "stdout",
     "output_type": "stream",
     "text": [
      "24\n",
      "23\n",
      "22\n",
      "21\n",
      "20\n",
      "19\n",
      "18\n",
      "17\n",
      "16\n",
      "15\n",
      "14\n",
      "13\n",
      "12\n",
      "11\n",
      "10\n",
      "9\n",
      "8\n",
      "7\n",
      "6\n",
      "5\n",
      "4\n",
      "3\n"
     ]
    }
   ],
   "source": [
    "for i in range(24, 2, -1):  # (Start, end, step)\n",
    "    print(i)"
   ]
  },
  {
   "cell_type": "code",
   "execution_count": null,
   "id": "6fa5fdb9-b8ed-45ba-b8f3-f2a8fba0c973",
   "metadata": {},
   "outputs": [],
   "source": [
    "#9 write a program to print table of a number (accepted from user)  in the following format.\n",
    "\n",
    "# like  input is 7 then output is 7*1 = 7\n",
    "                                 # 7 *2  = 14 so on \n",
    "\n",
    "\n",
    "\n",
    "num = int(input(\"Enter the number of which table you want: \"))\n",
    "\n",
    "for i in range(1, 11):\n",
    "    table= num*i\n",
    "    print(f'{num} * {i} = ', table)\n"
   ]
  },
  {
   "cell_type": "code",
   "execution_count": null,
   "id": "cc089dfc-adc3-42b6-afec-3403c14ce6fe",
   "metadata": {},
   "outputs": [],
   "source": [
    "#10   Pattern\n",
    "\n",
    "num = int(input(\"Enter the number\"))\n",
    "\n",
    "\n",
    "for i in range(num,0,-1):\n",
    "    print(i*str(i))\n"
   ]
  },
  {
   "cell_type": "code",
   "execution_count": null,
   "id": "65795a7a-a89d-4590-a704-32d593895cfb",
   "metadata": {},
   "outputs": [],
   "source": [
    "#11  palindrome\n",
    "\n",
    "\n",
    "num = int(input(\"enter the number\"))\n",
    "\n",
    "\n"
   ]
  },
  {
   "cell_type": "code",
   "execution_count": null,
   "id": "42362c2f-c681-401b-a4a4-a5d5882f772a",
   "metadata": {},
   "outputs": [],
   "source": [
    "# While loop \n",
    "\n",
    "\n",
    "l = [\"jack\", \"Jenny\", \"Jassi\", \"jeet\"]\n",
    "i = 0\n",
    "while i<4:\n",
    "    print(l[i])\n",
    "    if l[i] == \"Jassi\":\n",
    "        continue\n",
    "        i=i+1\n",
    "\n",
    "    \n"
   ]
  },
  {
   "cell_type": "code",
   "execution_count": null,
   "id": "87bdd9d9-f503-4e6a-9a51-cee8d18521a1",
   "metadata": {},
   "outputs": [],
   "source": [
    "a = 12\n",
    "i = 0\n",
    "while i <5:\n",
    "    i=i+1\n",
    "    print(a)"
   ]
  },
  {
   "cell_type": "code",
   "execution_count": null,
   "id": "3099329e-867d-4d26-b259-593206d88508",
   "metadata": {},
   "outputs": [],
   "source": [
    "l = [\"jack\", \"Jenny\", \"Jassi\", \"jeet\"]\n",
    "i = 0\n",
    "while i<5:\n",
    "    print(l[i])\n",
    "    if l[i]==\"Jassi\":\n",
    "        break\n",
    "    i=i+1"
   ]
  },
  {
   "cell_type": "code",
   "execution_count": null,
   "id": "ca70b387-a678-49e8-9347-73e1dadba204",
   "metadata": {},
   "outputs": [],
   "source": [
    "l = [\"jack\", \"Jenny\", \"Jassi\", \"jeet\"]\n",
    "i = 0\n",
    "while i<len(l):\n",
    "    if l[i]==\"Jenny\":\n",
    "        continue\n",
    "    i=i+1\n",
    "    print(l[i])"
   ]
  },
  {
   "cell_type": "code",
   "execution_count": null,
   "id": "dc0d553f-22fe-4b85-aedf-f02d1e66b1c2",
   "metadata": {},
   "outputs": [],
   "source": []
  },
  {
   "cell_type": "code",
   "execution_count": null,
   "id": "965fe83c-5184-4ad6-93f7-7894a817ac1f",
   "metadata": {},
   "outputs": [],
   "source": []
  }
 ],
 "metadata": {
  "kernelspec": {
   "display_name": "Python 3 (ipykernel)",
   "language": "python",
   "name": "python3"
  },
  "language_info": {
   "codemirror_mode": {
    "name": "ipython",
    "version": 3
   },
   "file_extension": ".py",
   "mimetype": "text/x-python",
   "name": "python",
   "nbconvert_exporter": "python",
   "pygments_lexer": "ipython3",
   "version": "3.12.7"
  }
 },
 "nbformat": 4,
 "nbformat_minor": 5
}
