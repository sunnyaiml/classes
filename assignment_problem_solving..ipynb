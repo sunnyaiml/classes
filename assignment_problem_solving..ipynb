{
 "cells": [
  {
   "cell_type": "code",
   "execution_count": null,
   "id": "650a532f-ff4b-4a90-90d5-293e54428f67",
   "metadata": {},
   "outputs": [],
   "source": []
  },
  {
   "cell_type": "code",
   "execution_count": 71,
   "id": "0fc80728-454b-4b96-976a-7b048cd7362f",
   "metadata": {},
   "outputs": [
    {
     "name": "stdout",
     "output_type": "stream",
     "text": [
      "SY\n",
      "unn\n",
      "SYunn\n",
      "SunnY\n"
     ]
    }
   ],
   "source": [
    "name= \"sunny\"\n",
    "\n",
    "print(name.upper()[0:5:4])\n",
    "print(name[0:5:4].upper() and name[1:4].lower())\n",
    "print(name[0:5:4].upper() + name[1:4].lower())\n",
    "print(name[0].upper() + name[1:4].lower() + name[-1].upper())\n"
   ]
  },
  {
   "cell_type": "code",
   "execution_count": null,
   "id": "a46a0e7e-8033-4e7f-baeb-d602b351ac09",
   "metadata": {},
   "outputs": [],
   "source": []
  }
 ],
 "metadata": {
  "kernelspec": {
   "display_name": "Python 3 (ipykernel)",
   "language": "python",
   "name": "python3"
  },
  "language_info": {
   "codemirror_mode": {
    "name": "ipython",
    "version": 3
   },
   "file_extension": ".py",
   "mimetype": "text/x-python",
   "name": "python",
   "nbconvert_exporter": "python",
   "pygments_lexer": "ipython3",
   "version": "3.12.7"
  }
 },
 "nbformat": 4,
 "nbformat_minor": 5
}
