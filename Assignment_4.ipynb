{
 "cells": [
  {
   "cell_type": "code",
   "execution_count": null,
   "id": "fddf2523-5a7a-4476-ae91-cf2775c50536",
   "metadata": {},
   "outputs": [],
   "source": [
    "#1 reverse the tuple\n",
    "\n",
    "\n",
    "a = (10, 20, 30,40, 50)\n",
    "\n",
    "# print(x in a if i<x i = x)\n",
    "b = list(a)\n",
    "b.sort(reverse=True)\n",
    "print(b)"
   ]
  },
  {
   "cell_type": "code",
   "execution_count": null,
   "id": "48622fd6-823c-434b-a632-27495da78c17",
   "metadata": {},
   "outputs": [],
   "source": [
    "#2 Access Value 20 in the tuple\n",
    "\n",
    "a = (\"Orange\",[10,20,30],(5,15,25))\n",
    "\n",
    "print(a[1][1])"
   ]
  },
  {
   "cell_type": "code",
   "execution_count": null,
   "id": "fa54593a-e9d0-42ee-8d93-2767fc1eac74",
   "metadata": {},
   "outputs": [],
   "source": [
    "#3 Create a Tuple With Single item 50\n",
    "\n",
    "\n",
    "a = [50]\n",
    "b = tuple(a)\n",
    "print(type(b))\n",
    "print(b)"
   ]
  },
  {
   "cell_type": "code",
   "execution_count": null,
   "id": "30f57612-6bbe-4af7-9598-3958cd368661",
   "metadata": {},
   "outputs": [],
   "source": [
    "#4 Unpack The Following Tuplw into 4 Variable\n",
    "\n",
    "a = (10, 20, 30, 40)\n",
    "x, y, z, b = a\n",
    "print(x, y, z, b)"
   ]
  },
  {
   "cell_type": "code",
   "execution_count": null,
   "id": "ea187276-e6cd-4753-9aa8-24e828b0c4d2",
   "metadata": {},
   "outputs": [],
   "source": [
    "#5 Swap a and b\n",
    "\n",
    "a = (11,22)\n",
    "b = (99, 88)\n",
    "\n",
    "c = 0\n",
    "\n",
    "c=a\n",
    "a=b\n",
    "b=c\n",
    "print(f'Value of a = {a},  Value of b = {b}')"
   ]
  },
  {
   "cell_type": "code",
   "execution_count": 33,
   "id": "28442cf8-79cd-4100-b496-0e64be42a43e",
   "metadata": {},
   "outputs": [
    {
     "name": "stdout",
     "output_type": "stream",
     "text": [
      "44\n"
     ]
    }
   ],
   "source": [
    "#6 copy element 44 and 55 from the following tuple into new tuple \n",
    "\n",
    "tuple2=(44, 55)\n",
    "a, b = tuple2\n",
    "print(a)"
   ]
  },
  {
   "cell_type": "code",
   "execution_count": 39,
   "id": "1aa64de4-076a-4a50-98f1-251dcb13bd33",
   "metadata": {},
   "outputs": [
    {
     "name": "stdout",
     "output_type": "stream",
     "text": [
      "(11, [222, 33], 44, 55)\n"
     ]
    }
   ],
   "source": [
    "#7 modify the item 22 of alist inside a following tuple to 222\n",
    "\n",
    "a = (11,[22,33], 44, 55)\n",
    "\n",
    "b = list[a]\n",
    "\n",
    "a[1][0]=222\n",
    "print(a)\n"
   ]
  },
  {
   "cell_type": "code",
   "execution_count": 41,
   "id": "63e79eef-2d7e-4c04-bf94-f9a4b5b7c09a",
   "metadata": {},
   "outputs": [
    {
     "name": "stdout",
     "output_type": "stream",
     "text": [
      " 50 has been occure 2 time's\n"
     ]
    }
   ],
   "source": [
    "#8 count the number of occurrence of item 50 from a tuple\n",
    "\n",
    "a = (50, 10, 60, 70, 50)\n",
    "count = 0\n",
    "for i in a:\n",
    "    if i == 50:\n",
    "        count+=1\n",
    "print(f\" 50 has been occure {count} time's\")\n",
    "        "
   ]
  },
  {
   "cell_type": "code",
   "execution_count": 45,
   "id": "8a0cbde8-2211-4933-92af-7e8bc8326a5e",
   "metadata": {},
   "outputs": [
    {
     "name": "stdout",
     "output_type": "stream",
     "text": [
      "11\n"
     ]
    }
   ],
   "source": [
    "#9 Assign the first element of the tuple to answe_1 on line \n",
    "\n",
    "\n",
    "tt=(11, 100, 99, 1000, 999)\n",
    "answer_1 = tt[0]\n",
    "print(answer_1)"
   ]
  },
  {
   "cell_type": "code",
   "execution_count": 51,
   "id": "07d93670-019d-4aa0-a7ee-ba1499b90b9f",
   "metadata": {},
   "outputs": [
    {
     "name": "stdout",
     "output_type": "stream",
     "text": [
      "7\n"
     ]
    }
   ],
   "source": [
    "#10 What the index of 2 \n",
    "\n",
    "tt = (55, 777, 54, 6, 76, 101, 1, 2, 8679, 123, 99)\n",
    "index = 0\n",
    "for i in tt:\n",
    "    if i ==2:\n",
    "        break\n",
    "    index+=1\n",
    "\n",
    "answer_1 = index\n",
    "print(answer_1)"
   ]
  },
  {
   "cell_type": "code",
   "execution_count": 55,
   "id": "c0b5c891-1235-49e2-9a07-206eba046024",
   "metadata": {},
   "outputs": [
    {
     "name": "stdout",
     "output_type": "stream",
     "text": [
      " 777 has been occure 2 time's\n"
     ]
    }
   ],
   "source": [
    "#11 how many Time does 777 occur\n",
    "\n",
    "\n",
    "a = (55, 777, 54, 6, 76, 7777, 1, 777, 2, 6)\n",
    "count = 0\n",
    "for i in a:\n",
    "    if i == 777:\n",
    "        count+=1\n",
    "print(f\" 777 has been occure {count} time's\")"
   ]
  },
  {
   "cell_type": "code",
   "execution_count": 63,
   "id": "3eb07bb0-b1af-4bc0-878c-1dbefbdbf146",
   "metadata": {},
   "outputs": [
    {
     "name": "stdout",
     "output_type": "stream",
     "text": [
      "1306\n"
     ]
    }
   ],
   "source": [
    "#12 what is the sum of all the number in the tuple\n",
    "\n",
    "tt = (42, 1092, 11, 88, 65, 2, 6)\n",
    "sum_1=0\n",
    "for i in tt:\n",
    "    sum_1 += i\n",
    "print(sum_1)"
   ]
  },
  {
   "cell_type": "code",
   "execution_count": 132,
   "id": "e79adcc3-e6a4-4ec7-bb95-5ff81aeb5de1",
   "metadata": {},
   "outputs": [
    {
     "name": "stdout",
     "output_type": "stream",
     "text": [
      "9\n"
     ]
    }
   ],
   "source": [
    "#13 What is the minimum value in the tuple\n",
    "\n",
    "tt = (66, 555, 11, 101, 9, 1001)\n",
    "small = list(tt)\n",
    "small.sort() \n",
    "        \n",
    "        \n",
    "        \n",
    "print(small[0])"
   ]
  },
  {
   "cell_type": "code",
   "execution_count": 144,
   "id": "19e3955e-c06b-4ddf-92bf-fb8563ebdc26",
   "metadata": {},
   "outputs": [
    {
     "name": "stdout",
     "output_type": "stream",
     "text": [
      "<class 'list'>\n"
     ]
    }
   ],
   "source": [
    "# 16 Conver the set to a list \n",
    "\n",
    "a = {4, 2, 3}\n",
    "a = list(a)\n",
    "print(type(a))"
   ]
  },
  {
   "cell_type": "code",
   "execution_count": null,
   "id": "6ece09e9-a59e-4ead-b3e1-12d66620f933",
   "metadata": {},
   "outputs": [],
   "source": [
    "# 17 How can you iterate on values in a sets\n",
    "\n",
    "s = {\"a\", \"b\", 'c',\"d\", \"e\"}\n",
    "\n",
    "\n"
   ]
  }
 ],
 "metadata": {
  "kernelspec": {
   "display_name": "Python 3 (ipykernel)",
   "language": "python",
   "name": "python3"
  },
  "language_info": {
   "codemirror_mode": {
    "name": "ipython",
    "version": 3
   },
   "file_extension": ".py",
   "mimetype": "text/x-python",
   "name": "python",
   "nbconvert_exporter": "python",
   "pygments_lexer": "ipython3",
   "version": "3.12.7"
  }
 },
 "nbformat": 4,
 "nbformat_minor": 5
}
