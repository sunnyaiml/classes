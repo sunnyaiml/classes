{
 "cells": [
  {
   "cell_type": "code",
   "execution_count": 1,
   "id": "075fb774-ee4d-4c5e-ac05-48f32d6b353d",
   "metadata": {},
   "outputs": [
    {
     "name": "stdin",
     "output_type": "stream",
     "text": [
      "enter the number 23\n"
     ]
    },
    {
     "data": {
      "text/plain": [
       "1"
      ]
     },
     "execution_count": 1,
     "metadata": {},
     "output_type": "execute_result"
    }
   ],
   "source": [
    "\n",
    "\n",
    "\n",
    "\n",
    "def isPrime(n):\n",
    "    if n <= 2:\n",
    "        print(\"Enter number Should Be Grater then 2: \")\n",
    "        n = int(input(\"enter the number\"))\n",
    "    for i in range(2,n):\n",
    "        if n%i==0:\n",
    "            return 0\n",
    "        else:\n",
    "            return 1\n",
    "\n",
    "\n",
    "isPrime(int(input(\"enter the number\")))\n",
    "        \n"
   ]
  },
  {
   "cell_type": "markdown",
   "id": "bf752c3f-6b27-4912-ac0e-2422ce281e4b",
   "metadata": {},
   "source": [
    "### "
   ]
  }
 ],
 "metadata": {
  "kernelspec": {
   "display_name": "Python 3 (ipykernel)",
   "language": "python",
   "name": "python3"
  },
  "language_info": {
   "codemirror_mode": {
    "name": "ipython",
    "version": 3
   },
   "file_extension": ".py",
   "mimetype": "text/x-python",
   "name": "python",
   "nbconvert_exporter": "python",
   "pygments_lexer": "ipython3",
   "version": "3.12.7"
  }
 },
 "nbformat": 4,
 "nbformat_minor": 5
}
