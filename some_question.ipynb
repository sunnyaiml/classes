{
 "cells": [
  {
   "cell_type": "code",
   "execution_count": null,
   "id": "14a8424c-377e-4da0-a07c-6bea98f2a13f",
   "metadata": {},
   "outputs": [],
   "source": []
  },
  {
   "cell_type": "code",
   "execution_count": null,
   "id": "d3da2746-9b67-435a-8135-76ac10206f50",
   "metadata": {},
   "outputs": [],
   "source": [
    "num = int(input(\"enter the number\"))\n",
    "\n",
    "if num%2 == 0 and num%3==0:\n",
    "    print(\"entered number is divisible of 2 and 3 \")\n",
    "else:\n",
    "    print(\"Entered number is not divisible of 2 and 3\")"
   ]
  },
  {
   "cell_type": "code",
   "execution_count": null,
   "id": "67d8e21e-d962-4bef-9e73-620a1f46c39d",
   "metadata": {},
   "outputs": [],
   "source": [
    "num1 = int(input(\"enter the number\"))\n",
    "num2 = int(input(\"enter the number\"))\n",
    "num3 = int(input(\"enter the number\"))\n",
    "\n",
    "if num1>num2 and num1>num3:\n",
    "    print(\"1st is greatest\")\n",
    "elif num2>num1 and num2>num3:\n",
    "    print(\"2nd is greatest\")\n",
    "elif num3>num2 and num3>num1:\n",
    "    print(\"3rd is greatest\")\n",
    "else:\n",
    "    print(\"ether one of them number is equal to each other\")\n",
    "    \n",
    "\n"
   ]
  },
  {
   "cell_type": "code",
   "execution_count": null,
   "id": "a16b25c7-d5e4-462d-a57f-21a0b3ce9b3e",
   "metadata": {},
   "outputs": [],
   "source": [
    "num1 = int(input(\"enter the number\"))\n",
    "num2 = float(input(\"enter the 2nd number\"))\n",
    "op = str(input(\"enter the op\"))\n",
    "op1 = input(\"enter any thi\")\n",
    "print(num1, num2, op, op1)\n",
    "\n",
    "if op == \"+\":\n",
    "    print(num1+num2)\n",
    "elif op == \"*\":\n",
    "    print(num1*num2)\n",
    "elif op == \"/\":\n",
    "    print(num1/num2)\n",
    "elif op == \"-\":\n",
    "    print(num1-num2)\n",
    "elif op == \"%\":\n",
    "    print(num1+num2)\n",
    "elif op == \"**\":\n",
    "    print(num1**num2)\n",
    "else:\n",
    "    print(\"Invalid Input\")\n"
   ]
  },
  {
   "cell_type": "code",
   "execution_count": null,
   "id": "92aeba09-78b7-49d6-ae73-8bf3e1510331",
   "metadata": {},
   "outputs": [],
   "source": [
    "\n",
    "\n",
    "al = [\"a\", \"b\", \"c\", \"d\", \"e\", \"j\", \"k\"]\n",
    "l = [0, 1, 3, 4, 5, 6, 7, 8, 9, 10]\n",
    "i = 0\n",
    "while i < len(al):\n",
    "    if al[i] == \"e\":\n",
    "        i+=1\n",
    "        continue\n",
    "    print(al[i])\n",
    "    i+=1"
   ]
  },
  {
   "cell_type": "code",
   "execution_count": null,
   "id": "9f4df9c1-b771-4194-b2ac-081a3973edcb",
   "metadata": {},
   "outputs": [],
   "source": [
    "for i in range"
   ]
  },
  {
   "cell_type": "code",
   "execution_count": null,
   "id": "7b470011-205a-4c52-943d-1fcf84be57fe",
   "metadata": {},
   "outputs": [],
   "source": [
    "#find the greatest number in the list\n",
    "\n",
    "l = [10, 4, 55, 77, 9, 11]\n",
    "\n",
    "for i in range(len(l)):\n",
    "    for j in range(i):\n",
    "        if l[i] > l[j]:\n",
    "            print(l[i])"
   ]
  },
  {
   "cell_type": "code",
   "execution_count": 3,
   "id": "049e9291-1049-4876-956c-c499ce4f3b94",
   "metadata": {},
   "outputs": [
    {
     "ename": "TypeError",
     "evalue": "'>' not supported between instances of 'int' and 'list'",
     "output_type": "error",
     "traceback": [
      "\u001b[1;31m---------------------------------------------------------------------------\u001b[0m",
      "\u001b[1;31mTypeError\u001b[0m                                 Traceback (most recent call last)",
      "Cell \u001b[1;32mIn[3], line 5\u001b[0m\n\u001b[0;32m      2\u001b[0m k \u001b[38;5;241m=\u001b[39m l[\u001b[38;5;241m0\u001b[39m]\n\u001b[0;32m      4\u001b[0m \u001b[38;5;28;01mfor\u001b[39;00m i \u001b[38;5;129;01min\u001b[39;00m l:\n\u001b[1;32m----> 5\u001b[0m     \u001b[38;5;28;01mif\u001b[39;00m \u001b[43mi\u001b[49m\u001b[43m \u001b[49m\u001b[38;5;241;43m>\u001b[39;49m\u001b[43m \u001b[49m\u001b[43mk\u001b[49m:\n\u001b[0;32m      6\u001b[0m        k \u001b[38;5;241m=\u001b[39m l\n\u001b[0;32m      7\u001b[0m \u001b[38;5;28mprint\u001b[39m(k)\n",
      "\u001b[1;31mTypeError\u001b[0m: '>' not supported between instances of 'int' and 'list'"
     ]
    }
   ],
   "source": [
    "l = [10, 4, 55, 77, 9, 11]\n",
    "k = l[0]\n",
    "\n",
    "for i in l:\n",
    "    if i > k:\n",
    "       k = l\n",
    "print(k)\n",
    "\n"
   ]
  },
  {
   "cell_type": "code",
   "execution_count": null,
   "id": "97e20930-7723-49ba-a7c4-b5718e7beafe",
   "metadata": {},
   "outputs": [],
   "source": []
  },
  {
   "cell_type": "code",
   "execution_count": null,
   "id": "96bff42f-f94d-4a55-9686-6b9eb09510e3",
   "metadata": {},
   "outputs": [],
   "source": []
  }
 ],
 "metadata": {
  "kernelspec": {
   "display_name": "Python 3 (ipykernel)",
   "language": "python",
   "name": "python3"
  },
  "language_info": {
   "codemirror_mode": {
    "name": "ipython",
    "version": 3
   },
   "file_extension": ".py",
   "mimetype": "text/x-python",
   "name": "python",
   "nbconvert_exporter": "python",
   "pygments_lexer": "ipython3",
   "version": "3.12.7"
  }
 },
 "nbformat": 4,
 "nbformat_minor": 5
}
