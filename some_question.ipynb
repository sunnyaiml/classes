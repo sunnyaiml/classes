{
 "cells": [
  {
   "cell_type": "code",
   "execution_count": null,
   "id": "14a8424c-377e-4da0-a07c-6bea98f2a13f",
   "metadata": {},
   "outputs": [],
   "source": []
  },
  {
   "cell_type": "code",
   "execution_count": 8,
   "id": "d3da2746-9b67-435a-8135-76ac10206f50",
   "metadata": {},
   "outputs": [
    {
     "name": "stdin",
     "output_type": "stream",
     "text": [
      "enter the number 12\n"
     ]
    },
    {
     "name": "stdout",
     "output_type": "stream",
     "text": [
      "entered number is divisible of 2 and 3 \n"
     ]
    }
   ],
   "source": [
    "num = int(input(\"enter the number\"))\n",
    "\n",
    "if num%2 == 0 and num%3==0:\n",
    "    print(\"entered number is divisible of 2 and 3 \")\n",
    "else:\n",
    "    print(\"Entered number is not divisible of 2 and 3\")"
   ]
  },
  {
   "cell_type": "code",
   "execution_count": 12,
   "id": "67d8e21e-d962-4bef-9e73-620a1f46c39d",
   "metadata": {},
   "outputs": [
    {
     "name": "stdin",
     "output_type": "stream",
     "text": [
      "enter the number 2\n",
      "enter the number 3\n",
      "enter the number 4\n"
     ]
    },
    {
     "name": "stdout",
     "output_type": "stream",
     "text": [
      "3rd is greatest\n"
     ]
    }
   ],
   "source": [
    "num1 = int(input(\"enter the number\"))\n",
    "num2 = int(input(\"enter the number\"))\n",
    "num3 = int(input(\"enter the number\"))\n",
    "\n",
    "if num1>num2 and num1>num3:\n",
    "    print(\"1st is greatest\")\n",
    "elif num2>num1 and num2>num3:\n",
    "    print(\"2nd is greatest\")\n",
    "elif num3>num2 and num3>num1:\n",
    "    print(\"3rd is greatest\")\n",
    "else:\n",
    "    print(\"ether one of them number is equal to each other\")\n",
    "    \n",
    "\n"
   ]
  },
  {
   "cell_type": "code",
   "execution_count": 26,
   "id": "a16b25c7-d5e4-462d-a57f-21a0b3ce9b3e",
   "metadata": {},
   "outputs": [
    {
     "name": "stdin",
     "output_type": "stream",
     "text": [
      "enter the number 12\n",
      "enter the 2nd number 12\n",
      "enter the op *\n",
      "enter any thi hello\n"
     ]
    },
    {
     "name": "stdout",
     "output_type": "stream",
     "text": [
      "12 12.0 * hello\n",
      "144.0\n"
     ]
    }
   ],
   "source": [
    "num1 = int(input(\"enter the number\"))\n",
    "num2 = float(input(\"enter the 2nd number\"))\n",
    "op = str(input(\"enter the op\"))\n",
    "op1 = input(\"enter any thi\")\n",
    "print(num1, num2, op, op1)\n",
    "\n",
    "if op == \"+\":\n",
    "    print(num1+num2)\n",
    "elif op == \"*\":\n",
    "    print(num1*num2)\n",
    "elif op == \"/\":\n",
    "    print(num1/num2)\n",
    "elif op == \"-\":\n",
    "    print(num1-num2)\n",
    "elif op == \"%\":\n",
    "    print(num1+num2)\n",
    "elif op == \"**\":\n",
    "    print(num1**num2)\n",
    "else:\n",
    "    print(\"Invalid Input\")\n"
   ]
  },
  {
   "cell_type": "code",
   "execution_count": null,
   "id": "92aeba09-78b7-49d6-ae73-8bf3e1510331",
   "metadata": {},
   "outputs": [],
   "source": []
  }
 ],
 "metadata": {
  "kernelspec": {
   "display_name": "Python 3 (ipykernel)",
   "language": "python",
   "name": "python3"
  },
  "language_info": {
   "codemirror_mode": {
    "name": "ipython",
    "version": 3
   },
   "file_extension": ".py",
   "mimetype": "text/x-python",
   "name": "python",
   "nbconvert_exporter": "python",
   "pygments_lexer": "ipython3",
   "version": "3.12.7"
  }
 },
 "nbformat": 4,
 "nbformat_minor": 5
}
