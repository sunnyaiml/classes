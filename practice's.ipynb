{
 "cells": [
  {
   "cell_type": "code",
   "execution_count": 26,
   "id": "817a33ce-5779-4287-b1fa-3a68f4d9a2e3",
   "metadata": {},
   "outputs": [
    {
     "name": "stdout",
     "output_type": "stream",
     "text": [
      "[('',), ('a',), ('a', 'b', 'c')]\n"
     ]
    }
   ],
   "source": [
    "tt = [(), (), ('',),('a',),('a','b','c'), ()]\n",
    "\n",
    "for i in tt:\n",
    "    () in tt\n",
    "    tt.remove(())\n",
    "\n",
    "print(tt)"
   ]
  },
  {
   "cell_type": "code",
   "execution_count": null,
   "id": "d9269fab-8380-4ddf-b08b-7ab40702fda7",
   "metadata": {},
   "outputs": [],
   "source": []
  },
  {
   "cell_type": "code",
   "execution_count": 40,
   "id": "957478cd-e478-4650-b102-1ea4adfd3d04",
   "metadata": {},
   "outputs": [
    {
     "name": "stdout",
     "output_type": "stream",
     "text": [
      "[1, 2, 3, 4, 5, 6, 7, 8, 9, 10, 11, 12, 19]\n"
     ]
    }
   ],
   "source": [
    "# remove the elements from 13 to 17  \n",
    "\n",
    "\n",
    "li = [1, 2, 3, 4, 5, 6, 7 ,8 ,9, 10, 11, 12, 13, 14, 15, 16, 17, 18, 19 ]\n",
    "\n",
    "\n",
    "del li[12:18]\n",
    "print(li)"
   ]
  },
  {
   "cell_type": "code",
   "execution_count": 70,
   "id": "6038080f-4f7c-40b8-bddc-45417f3bd9c2",
   "metadata": {},
   "outputs": [
    {
     "name": "stdin",
     "output_type": "stream",
     "text": [
      "Enter the Radius of Circle in cm:  5\n"
     ]
    },
    {
     "name": "stdout",
     "output_type": "stream",
     "text": [
      " Area of Circle with Radius 5cm is 78.5cm\n"
     ]
    }
   ],
   "source": [
    "# area of circle\n",
    "\n",
    "\n",
    "def circle(r):\n",
    "    r = 3.14*r**2\n",
    "    return r \n",
    "\n",
    "radius = int(input(\"Enter the Radius of Circle in cm: \"))\n",
    "print(f' Area of Circle with Radius {radius}cm is {circle(radius)}cm')"
   ]
  },
  {
   "cell_type": "code",
   "execution_count": 74,
   "id": "89d5d337-b4c0-41c4-9d4c-f9919f25855f",
   "metadata": {},
   "outputs": [
    {
     "name": "stdin",
     "output_type": "stream",
     "text": [
      "Enter the Number:  6\n"
     ]
    },
    {
     "name": "stdout",
     "output_type": "stream",
     "text": [
      " Factorial of 6 is 720\n"
     ]
    }
   ],
   "source": [
    "# factorial\n",
    "\n",
    "def fact(n):\n",
    "    c=1\n",
    "    for i in range(n,1,-1):\n",
    "        c = i*c\n",
    "    return(c)\n",
    "\n",
    "n = int(input(\"Enter the Number: \"))\n",
    "print(f' Factorial of {n} is {fact(n)}')\n"
   ]
  },
  {
   "cell_type": "code",
   "execution_count": null,
   "id": "178a83e6-3b02-4ba6-9ab9-e089418c672e",
   "metadata": {},
   "outputs": [],
   "source": []
  }
 ],
 "metadata": {
  "kernelspec": {
   "display_name": "Python 3 (ipykernel)",
   "language": "python",
   "name": "python3"
  },
  "language_info": {
   "codemirror_mode": {
    "name": "ipython",
    "version": 3
   },
   "file_extension": ".py",
   "mimetype": "text/x-python",
   "name": "python",
   "nbconvert_exporter": "python",
   "pygments_lexer": "ipython3",
   "version": "3.12.7"
  }
 },
 "nbformat": 4,
 "nbformat_minor": 5
}
