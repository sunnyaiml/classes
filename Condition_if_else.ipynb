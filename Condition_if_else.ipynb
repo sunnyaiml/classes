{
 "cells": [
  {
   "cell_type": "code",
   "execution_count": 11,
   "id": "668f670a-1413-4cfc-a082-34594822c63d",
   "metadata": {},
   "outputs": [
    {
     "name": "stdin",
     "output_type": "stream",
     "text": [
      "Enter your Marks:-  100\n"
     ]
    },
    {
     "name": "stdout",
     "output_type": "stream",
     "text": [
      "you have scored B Grade\n"
     ]
    }
   ],
   "source": [
    "marks=int(input(\"Enter your Marks:- \"))\n",
    "\n",
    "if marks<85:\n",
    "    print(\"you have scored A Grade\")\n",
    "elif marks<70 or marks>85:\n",
    "    print(\"you have scored B Grade\")\n",
    "elif marks<55 or marks>70:\n",
    "    print(\"you have scored C Grade\")\n",
    "elif marks<35 or marks<55:\n",
    "    print(\"you have scored D Grade\")\n",
    "else:\n",
    "    print(\"You are Fail\")\n",
    "    "
   ]
  },
  {
   "cell_type": "code",
   "execution_count": 103,
   "id": "f941bf0c-5998-43eb-ac45-7bcab480a8a2",
   "metadata": {},
   "outputs": [
    {
     "name": "stdin",
     "output_type": "stream",
     "text": [
      "Enter your Marks:-  34\n"
     ]
    },
    {
     "name": "stdout",
     "output_type": "stream",
     "text": [
      "fail\n"
     ]
    }
   ],
   "source": [
    "marks=int(input(\"Enter your Marks:- \"))\n",
    "\n",
    "if marks>=85 and marks<=100:\n",
    "    print(\"you have scored A Grade\")\n",
    "elif marks>=70 and marks<=85:\n",
    "    print(\"you have scored B Grade\")\n",
    "elif marks>=55 and marks<=70:\n",
    "    print(\"you have scored c Grade\")\n",
    "elif marks>=35 and marks<=55:\n",
    "    print(\"you have scored D Grade\")\n",
    "else:\n",
    "    print(\"fail\")\n"
   ]
  },
  {
   "cell_type": "code",
   "execution_count": 81,
   "id": "11d8a2c7-cb78-4d07-9c71-0346c8f1e409",
   "metadata": {},
   "outputs": [
    {
     "name": "stdout",
     "output_type": "stream",
     "text": [
      " a is gre\n"
     ]
    }
   ],
   "source": [
    "a = 100\n",
    "b = 12\n",
    "if a > b:\n",
    "    print(\" a is gre\")"
   ]
  },
  {
   "cell_type": "code",
   "execution_count": null,
   "id": "f5786357-6dfd-45a9-a616-20c5104e0b37",
   "metadata": {},
   "outputs": [],
   "source": []
  }
 ],
 "metadata": {
  "kernelspec": {
   "display_name": "Python 3 (ipykernel)",
   "language": "python",
   "name": "python3"
  },
  "language_info": {
   "codemirror_mode": {
    "name": "ipython",
    "version": 3
   },
   "file_extension": ".py",
   "mimetype": "text/x-python",
   "name": "python",
   "nbconvert_exporter": "python",
   "pygments_lexer": "ipython3",
   "version": "3.12.7"
  }
 },
 "nbformat": 4,
 "nbformat_minor": 5
}
