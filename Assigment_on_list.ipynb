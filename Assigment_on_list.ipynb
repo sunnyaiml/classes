{
 "cells": [
  {
   "cell_type": "code",
   "execution_count": null,
   "id": "cad92a06-60af-4384-afc6-baace98884aa",
   "metadata": {},
   "outputs": [],
   "source": [
    "#1 checking if the element is present in the list\n",
    "\n",
    "l = [\"apple\", \"mango\",\"banana\"]\n",
    "\n",
    "if \"apple\" in l:\n",
    "    print(\"true\")"
   ]
  },
  {
   "cell_type": "code",
   "execution_count": null,
   "id": "d3125906-329c-4321-943c-e1e598f370c7",
   "metadata": {},
   "outputs": [],
   "source": [
    "#2 find the index of 1st matching element \n",
    "\n",
    "fruit = ['pear', 'orange', 'apple', 'grapefruit', 'apple', 'pear'] \n",
    "b = [\"\"]\n",
    "for i in fruit:\n",
    "    if i not in b :\n",
    "        b.append(i)\n",
    "    elif i in b:\n",
    "        print(f\"found {i} is repitive\")\n",
    "        break\n",
    "\n"
   ]
  },
  {
   "cell_type": "code",
   "execution_count": null,
   "id": "3f53dcad-1e45-488b-af53-40c703966c32",
   "metadata": {},
   "outputs": [],
   "source": [
    "#3 removing element with two method\n",
    "\n",
    "fruit = ['pear', 'orange', 'apple', \"banana\"] \n",
    "print(fruit.pop())\n",
    "print(fruit.remove(\"orange\"))\n",
    "print(fruit)"
   ]
  },
  {
   "cell_type": "code",
   "execution_count": null,
   "id": "4e3ee262-00be-42b0-aa20-020a8a3341aa",
   "metadata": {},
   "outputs": [],
   "source": [
    "\n",
    "#4 Concatenate two list with 2 different way\n",
    "\n",
    "fruit = ['pear', 'orange', 'apple', 'grapefruit', 'apple', 'pear'] \n",
    "\n",
    "fruit2 = ['pear', 'orange', 'apple', \"banana\"] \n",
    "\n",
    "print(fruit+fruit2)\n",
    "fruit.extend(fruit2)"
   ]
  },
  {
   "cell_type": "code",
   "execution_count": null,
   "id": "b754d4c2-4804-43ff-83e5-3c511de3f9c3",
   "metadata": {},
   "outputs": [],
   "source": [
    "# 5.How to manipulate every element in a list with list comprehension, new list with 1 added to every element. |  \n",
    "\n",
    "\n",
    "li = [0,25,50,100]\n",
    "\n",
    "print([x for x in li if x > 50])\n"
   ]
  },
  {
   "cell_type": "code",
   "execution_count": null,
   "id": "5204945b-1c82-4106-9cec-977c32271dc3",
   "metadata": {},
   "outputs": [],
   "source": [
    "# 6.Count the occurrence of a specific object in a | list \n",
    "\n",
    "pets = ['dog','cat','fish','fish','cat'] \n",
    "count=0\n",
    "for i in pets:\n",
    "    if i == \"fish\":\n",
    "        count +=1\n",
    "    \n",
    "print(f\" fish occur {count} times\")"
   ]
  },
  {
   "cell_type": "code",
   "execution_count": null,
   "id": "0ce4cb35-c317-42a1-abc4-ec94cfd4ed77",
   "metadata": {},
   "outputs": [],
   "source": [
    "# 7.Return the length of a list | \n",
    "\n",
    "li = ['a', 'b', 'c', 'd', 'e'] \n",
    "\n",
    "print(len(li))"
   ]
  },
  {
   "cell_type": "code",
   "execution_count": null,
   "id": "32a09839-7488-4d03-ac29-fffc2f4d1f95",
   "metadata": {},
   "outputs": [],
   "source": [
    "# 8.How to check if an element is not in a list? |  check 4 and 5 \n",
    "\n",
    "li = [1,2,3,4]\n",
    "\n",
    "for i in li:\n",
    "    if 4 == i or 5 == i:\n",
    "        print(f\"{i} is present\")"
   ]
  },
  {
   "cell_type": "code",
   "execution_count": null,
   "id": "6b34d34f-ccf7-4134-9d8d-0338a1255f8d",
   "metadata": {},
   "outputs": [],
   "source": [
    "# 9. Multiply every element in a list by 5 | \n",
    "\n",
    "a = [10,20,30,40,50] \n",
    "\n",
    "print([x*5 for x in a])"
   ]
  },
  {
   "cell_type": "code",
   "execution_count": null,
   "id": "0caf18cf-9503-47ff-a239-347d09f90652",
   "metadata": {},
   "outputs": [],
   "source": [
    "# 10.Insert a value at a specific index in an existing list | at 2nd position 'HERE' \n",
    "\n",
    "li = ['a','b','c','d','e']\n",
    "position = int(input(\"enter the position: \"))\n",
    "b = []\n",
    "for i in range(0,len(li)):\n",
    "    if i == position:\n",
    "        b.append(\"here\")\n",
    "    b.append(li[i]) \n",
    "print(b)"
   ]
  },
  {
   "cell_type": "code",
   "execution_count": null,
   "id": "38b7ee1e-7633-470b-887e-f043d06fde98",
   "metadata": {},
   "outputs": [],
   "source": [
    "#11. Remove elements in a list after a specific index i want only first 1 to 10 number \n",
    "\n",
    "li = [1,2,3,4,5,6,7,8,9,10,11,12,13,14,15,16,17,18,19,10]\n",
    "\n",
    "\n",
    "print([x for x in li if x < 11])"
   ]
  },
  {
   "cell_type": "code",
   "execution_count": null,
   "id": "bc68ce74-094f-4ed4-a8a5-c5a2c408d814",
   "metadata": {},
   "outputs": [],
   "source": [
    "# 12. Remove elements in a list between 2 indices | from 13 to 17 \n",
    "# 13\n",
    "\n",
    "li = [1,2,3,4,5,6,7,8,9,10,11,12,13,14,15,16,17,18,19,10]\n",
    "\n",
    "print(li[13:17])\n",
    "\n",
    "r1 = int(input(\"enter the first range : \"))\n",
    "r2 = int(input(\"enter the second range : \"))\n",
    "b = []\n",
    "for i in range(0,len(li)):\n",
    "    if i in li[r1:r2]:\n",
    "        continue\n",
    "    b.append(li[i]) \n",
    "print(li[r1:r2])\n",
    "print(b)"
   ]
  },
  {
   "cell_type": "code",
   "execution_count": null,
   "id": "f9bf4a22-766a-43a6-8d0c-02d348ded0ad",
   "metadata": {},
   "outputs": [],
   "source": [
    "# 14. Sort a list of integers in ascending order | \n",
    "\n",
    "li = [10,1,9,2,8,3,7,4,6,5] \n",
    "\n",
    "li.sort()\n",
    "print(li)"
   ]
  },
  {
   "cell_type": "code",
   "execution_count": null,
   "id": "6c6b23a9-8bd4-47b4-a4b2-1ae2cfa7afbf",
   "metadata": {},
   "outputs": [],
   "source": [
    "# 15.Sort a list of integers in descending order | \n",
    "\n",
    "li = [10,1,9,2,8,3,7,4,6,5] \n",
    "li.sort(reverse=True)\n",
    "print(li)"
   ]
  },
  {
   "cell_type": "code",
   "execution_count": null,
   "id": "68aba13a-251c-4388-bfe6-7d9928af6877",
   "metadata": {},
   "outputs": [],
   "source": [
    "# 16. Filter even values out of a list with list comprehension | \n",
    "\n",
    "li = [1,2,3,4,5,6,7,8,9,10] \n",
    "\n",
    "print([x for x in li if x%2==0])"
   ]
  },
  {
   "cell_type": "code",
   "execution_count": null,
   "id": "e981fcf1-03c6-43af-9577-cb5a40a8e355",
   "metadata": {},
   "outputs": [],
   "source": [
    "# 17. Get the first element from each nested list in a list | \n",
    "\n",
    "li = [[1,2,3], [4,5,6], [7,8,9], [10,11,12], [13,14,15]] \n",
    "\n",
    "for i in li:\n",
    "    print(i[0])\n"
   ]
  },
  {
   "cell_type": "code",
   "execution_count": null,
   "id": "6b32d851-3f94-4dc1-9bd4-3770c637ffb4",
   "metadata": {},
   "outputs": [],
   "source": [
    "# 18.Combine elements in a list into a single string. | \n",
    "\n",
    "li = ['The', 'quick','brown', 'fox', 'jumped', 'over', 'the', 'lazy', 'dog']\n",
    "b=\" \"\n",
    "\n",
    "for i in li:\n",
    "    b +=i+\" \"\n",
    "\n",
    "print(b)\n"
   ]
  },
  {
   "cell_type": "markdown",
   "id": "c8739a51-deba-4a06-a720-70258517d9bb",
   "metadata": {},
   "source": [
    "\n",
    "\n",
    "# Next page\n",
    "\n",
    " "
   ]
  },
  {
   "cell_type": "code",
   "execution_count": null,
   "id": "eb69be3f-4886-4ff8-94d6-009f59d5b1f3",
   "metadata": {},
   "outputs": [],
   "source": [
    "# 1.Add a list of elements to a set | EXPECTED O/P: {'Green', 'Yellow', 'Black', 'Orange', 'Red', 'Blue'} \n",
    "s= {\"Yellow\", \"Orange\", \"Black\"}\n",
    "l= [\"Blue\", \"Green\", \"Red\"] \n",
    "\n",
    "b = set(l)\n",
    "c = s.symmetric_difference(b)\n",
    "print(c)"
   ]
  },
  {
   "cell_type": "code",
   "execution_count": null,
   "id": "da8a17c7-cfea-4f55-957c-39513d48907d",
   "metadata": {},
   "outputs": [],
   "source": [
    "# 2.Return a new set of identical items from two sets | EXPECTED O/P:{40, 50, 30} \n",
    "set1 = {10, 20, 30, 40, 50} \n",
    "set2 = {30, 40, 50, 60, 70} \n",
    "\n",
    "\n",
    "print(set1.intersection(set2))"
   ]
  },
  {
   "cell_type": "code",
   "execution_count": null,
   "id": "4c6b7232-e9bd-481a-b230-9e9fe3af8a49",
   "metadata": {},
   "outputs": [],
   "source": [
    "# 3.Get Only unique items from two sets | EXPECTED O/P: (70 40, 10, 50, 20, 60, 30} \n",
    "set1 = {10, 20, 30, 40, 50}\n",
    "set2 = {30, 40, 50, 60, 70} \n",
    "\n",
    "print(set1.union(set2))"
   ]
  },
  {
   "cell_type": "code",
   "execution_count": null,
   "id": "f72732be-8172-44b4-b1f1-25e546dc790d",
   "metadata": {},
   "outputs": [],
   "source": [
    "# 4.Update the first set with items that don't exist in the second set |  EXPECTED O/P: set1 {10, 30}. \n",
    "set1 = {10, 20, 30} \n",
    "set2 = {20, 40, 50}\n",
    "\n",
    "print(set1.difference(set2))"
   ]
  },
  {
   "cell_type": "code",
   "execution_count": null,
   "id": "73ac2467-6269-4624-a431-27aac37b263b",
   "metadata": {},
   "outputs": [],
   "source": [
    "# 5.Remove items from the set at once |  EXPECTED O/P: (40, 50} \n",
    "set1 = {10, 20, 30, 40, 50}\n",
    "set2 = {10, 20, 30}\n",
    "set1.difference(set2)"
   ]
  },
  {
   "cell_type": "code",
   "execution_count": null,
   "id": "6787801d-068f-4673-9b3b-843de152e5dc",
   "metadata": {},
   "outputs": [],
   "source": [
    "# 6.Return a set of elements present in Set A or B, but not both  EXPECTED O/P:{20, 70, 10, 60} \n",
    "set1 = {10, 20, 30, 40, 50} \n",
    "set2 = {30, 40, 50, 60, 70}\n",
    "\n",
    "b = set1.difference(set2)\n",
    "a = set2.difference(set1)\n",
    "\n",
    "print(a.union(b))"
   ]
  },
  {
   "cell_type": "code",
   "execution_count": null,
   "id": "e2ff24c6-0ae6-466b-8465-88cecd5fbe71",
   "metadata": {},
   "outputs": [],
   "source": [
    "# 7.Check if two sets have any elements in common. If yes, display the common elements  EXPECTED O/P: Two sets have items in common {10 \n",
    "set1 = {10, 20, 30, 40, 50}\n",
    "set2 = {60, 70, 80, 90, 10}\n",
    "\n",
    "b = set1.intersection(set2)\n",
    "print([ f\"{i} is the common item in the set\"  for i in b])"
   ]
  },
  {
   "cell_type": "code",
   "execution_count": null,
   "id": "13e1eca0-848f-48ea-800d-f24f3c6ed294",
   "metadata": {},
   "outputs": [],
   "source": [
    "# 8.Update set1 by adding items from set2, except commo items |  EXPECTED O/P: (70, 10, 20, 60} \n",
    "set1 = {10, 20, 30, 40, 50}\n",
    "set2 = {30, 40, 50, 60, 70}\n",
    "\n",
    "b = set1.difference(set2)\n",
    "a = set2.difference(set1)\n",
    "\n",
    "print(a.union(b))"
   ]
  },
  {
   "cell_type": "code",
   "execution_count": null,
   "id": "64e044ff-16ae-4400-a02c-ec274a3247d4",
   "metadata": {},
   "outputs": [],
   "source": [
    "# 9. Remove items from set1 that are not common to both set1 and set2 |  EXPECTED O/P:{40, 50, 30} \n",
    "set1 = {10, 20, 30, 40, 50} \n",
    "set2 = {30, 40, 50, 60, 70}\n",
    "\n",
    "b = set1.intersection(set2)\n",
    "a = set2.intersection(set1)\n",
    "\n",
    "print(a.union(b))"
   ]
  },
  {
   "cell_type": "code",
   "execution_count": null,
   "id": "01d78c11-8612-4c89-9008-2b6e0cad4254",
   "metadata": {},
   "outputs": [],
   "source": [
    "# 10.Does converting an object to a set maintain the objec order? \n",
    "\n",
    "#no Set is unorder data type so if we convert the object in to set the order of the set will be different for example\n",
    "\n",
    "a = [10, 20, 30, 40]\n",
    "b = set(a)\n",
    "print(b)  # the output will be different than the original input "
   ]
  },
  {
   "cell_type": "code",
   "execution_count": null,
   "id": "48b3ccf6-0921-4b69-aa50-21fb29f3a40b",
   "metadata": {},
   "outputs": [],
   "source": [
    "# 11.CHECK if a set a subset of another set | \n",
    "a = {4, 5} \n",
    "b = {1, 2, 3, 4, 5}\n",
    "\n",
    "a.issubset(b)"
   ]
  },
  {
   "cell_type": "code",
   "execution_count": null,
   "id": "9f4b3848-70cf-4f7b-9cf1-4f2a100db887",
   "metadata": {},
   "outputs": [],
   "source": [
    "# 12.Check if a specific value exists in a set |  check 5. \n",
    "s = {5, 7, 9}\n",
    "\n",
    "5 in s"
   ]
  },
  {
   "cell_type": "code",
   "execution_count": null,
   "id": "48c295a0-0a83-4b28-ac5b-1200f0e9cc6f",
   "metadata": {},
   "outputs": [],
   "source": [
    "# 13. Add an element to a set | \n",
    "\n",
    "s = {'a','b','c'} \n",
    "s.add(\"e\")\n",
    "print(s)"
   ]
  },
  {
   "cell_type": "code",
   "execution_count": null,
   "id": "51f6f211-1d77-43b6-a478-4a21233d87f4",
   "metadata": {},
   "outputs": [],
   "source": [
    "# 14.Make a copy of a set | \n",
    "\n",
    "s1 = {'a','b','c'} \n",
    "s2= s1.copy()\n",
    "print(s2)"
   ]
  },
  {
   "cell_type": "code",
   "execution_count": null,
   "id": "b7112cea-39c3-4803-8a54-b9cfbae58a34",
   "metadata": {},
   "outputs": [],
   "source": [
    "# 15.Check if a set is a superset of another set | \n",
    "a = {10,20,30} \n",
    "b = {10, 20} \n",
    "\n",
    "print(a.issubset(b))\n",
    "print(a.issuperset(b))"
   ]
  },
  {
   "cell_type": "code",
   "execution_count": null,
   "id": "b7cf9e58-f945-4f27-b4d6-eed4d1fbfcfe",
   "metadata": {},
   "outputs": [],
   "source": [
    "# convert a set to a list \n",
    "a ={4,2,3}\n",
    "b = list(a)\n",
    "print(b)"
   ]
  },
  {
   "cell_type": "code",
   "execution_count": null,
   "id": "20a2fc9d-3f08-4175-8624-6c030d8ddad9",
   "metadata": {},
   "outputs": [],
   "source": []
  },
  {
   "cell_type": "markdown",
   "id": "0f18481e-de84-4cd9-a371-3b41679e5a30",
   "metadata": {},
   "source": [
    "# next page"
   ]
  },
  {
   "cell_type": "code",
   "execution_count": null,
   "id": "7ef51c56-ba80-4d33-8de5-7959b156d851",
   "metadata": {},
   "outputs": [],
   "source": []
  },
  {
   "cell_type": "code",
   "execution_count": null,
   "id": "cd7446ca-71ea-4c79-aade-7d16cbcf7467",
   "metadata": {},
   "outputs": [],
   "source": [
    "# 19. Reverse the order of a list | \n",
    "\n",
    "li = [1,2,3,4,5,6,7,8,9,10] \n",
    "li.sort(reverse=True)\n",
    "print(li)"
   ]
  },
  {
   "cell_type": "code",
   "execution_count": null,
   "id": "b59c3802-1875-4ec7-80d6-3b75cceca123",
   "metadata": {},
   "outputs": [],
   "source": [
    "# 20. Return the minimum value in a list | \n",
    "\n",
    "li = [10,1,9,2,8,3,7,4,6,5] \n",
    "li.sort(reverse=False)\n",
    "print(li)"
   ]
  },
  {
   "cell_type": "code",
   "execution_count": null,
   "id": "9e9a11ce-6b7a-4fb4-bb5f-0a9d4c9e4919",
   "metadata": {},
   "outputs": [],
   "source": [
    "# 21. Return the sum of values in a list |  with sum function and without sum functio\n",
    "li = [10,1,9,2,8,3,7,4,6,5] \n",
    "sum1=0\n",
    "print(sum(li))\n",
    "\n",
    "for i in li:\n",
    "    sum1+=i\n",
    "\n",
    "print(sum1)"
   ]
  },
  {
   "cell_type": "code",
   "execution_count": null,
   "id": "a6a8236e-a70e-484d-9404-da8fa0384a52",
   "metadata": {},
   "outputs": [],
   "source": [
    "# 22.Find the intersection (same element) of 2 lists | \n",
    "li1 = [1,2,3]\n",
    "li2 = [2,3,4] \n",
    "com = []\n",
    "\n",
    "for i in li1:\n",
    "    if i in li2:\n",
    "        com += str(i)\n",
    "print(com)"
   ]
  },
  {
   "cell_type": "code",
   "execution_count": null,
   "id": "5ddac9d9-0c42-406e-bcd1-fc28828d65d7",
   "metadata": {},
   "outputs": [],
   "source": [
    "# 23.Flatten a list of lists with a list comprehensions | O/P: will be [1, 2, 3, 4, 5, 6] \n",
    "li = [[1,2,3], [4,5,6]]\n",
    "\n",
    "print([y for x in li  for y in x])"
   ]
  },
  {
   "cell_type": "code",
   "execution_count": null,
   "id": "dfc0fd1a-072e-4eae-8ca5-fcc62edc1f91",
   "metadata": {},
   "outputs": [],
   "source": [
    "# 24.Generate a list of every integer between 2 values. take user input \n",
    "\n",
    "\n",
    "l1= []\n",
    "l2= []\n",
    "\n",
    "i = 0\n",
    "while i < 2:\n",
    "    if len(l1)< 2 :\n",
    "        num = int(input(\"Enter the value of List1 : \"))\n",
    "        num = int(input(\"Enter the value of List2 : \"))\n",
    "        l1.append(num)\n",
    "        l2.append(num)\n",
    "        i+=1\n",
    "    elif len(l2)<2:\n",
    "        num = int(input(\"Enter the value of List1 : \"))\n",
    "        num = int(input(\"Enter the value of List2 : \"))\n",
    "        l1.append(num)\n",
    "        l2.append(num)\n",
    "        i+=1\n",
    "    elif len(l1)==0 and len(l2)==0:\n",
    "        break\n",
    "\n",
    "\n",
    "print(f\"create list 1 = {l1} and list 2 = {l2}\")"
   ]
  },
  {
   "cell_type": "code",
   "execution_count": null,
   "id": "fb4e7826-4312-409a-b8c1-4fabcf4b22ab",
   "metadata": {},
   "outputs": [],
   "source": [
    "# 25. Reverse the order of a list using the slice syntax | \n",
    "li = ['a','b',3,4] \n",
    "\n",
    "li[::-1]"
   ]
  },
  {
   "cell_type": "code",
   "execution_count": null,
   "id": "be96a22a-df17-4d06-86a3-e9b07e34789e",
   "metadata": {},
   "outputs": [],
   "source": [
    "# 26. Remove empty strings from the list of strings | \n",
    "\n",
    "list1 = [\"Mike\", \"\", \"Emma\", \"Kelly\", \"\", \"Brad\"] \n",
    "list1.remove(\"\")\n",
    "list1.remove(\"\")\n",
    "print(list1)"
   ]
  },
  {
   "cell_type": "code",
   "execution_count": null,
   "id": "27f55dc7-479c-455c-b225-23ba23510106",
   "metadata": {},
   "outputs": [],
   "source": [
    "# 27.Add new item to list after a specified item|  EXPECTED [10, 20, [300, 400, [5000, 6000, 7000], 500], 30, 40] \n",
    "list1 = [10, 20, [300, 400, [5000, 6000], 500], 30, 40]\n",
    "\n",
    "list1[2][2].append(700)\n",
    "print(list1)"
   ]
  },
  {
   "cell_type": "code",
   "execution_count": null,
   "id": "4b8ace18-88d3-41d2-ad20-3a81153a16d3",
   "metadata": {},
   "outputs": [],
   "source": [
    "#28.Extend nested list by adding the sublist  EXPECTED O/P : ['a', 'b', ['c', ['d', 'e', ['f', 'g', 'h', 'i', 'j'], 'k'], 'l'], 'm', 'n']\n",
    "\n",
    "\n",
    "\n",
    "list1 = [\"a\", \"b\", [\"c\", [\"d\", \"e\", [\"f\", \"g\"], \"k\"], \"I\"], \"m\", \"n\"] \n",
    "sub_list = [\"h\", \"i\", \"j\"] \n",
    "\n",
    "for i in sub_list:\n",
    "    list1[2][1][2].append(i)\n",
    "\n",
    "print(list1)"
   ]
  },
  {
   "cell_type": "code",
   "execution_count": null,
   "id": "96f29179-667b-4003-a7c7-7d85ebf172ae",
   "metadata": {},
   "outputs": [],
   "source": [
    "# 29. Replace list's item with new value if found |  EXPECTED O/P: [5, 10, 15, 200, 25, 50, 20] \n",
    "\n",
    "list1 = [5, 10, 15, 20, 25, 50, 20]\n",
    "\n",
    "l = list1[0:4]\n",
    "i = list1[5:]\n",
    "l.remove(20)\n",
    "l.append(200)\n",
    "\n",
    "print(l+i)"
   ]
  },
  {
   "cell_type": "code",
   "execution_count": null,
   "id": "86454be2-13d9-4914-aa78-6a89607b5e98",
   "metadata": {},
   "outputs": [],
   "source": [
    "#30.Remove all occurrences of a specific item from a list.remove all occurrences of item 20.| \n",
    "\n",
    "list1 = [5, 20, 15, 20, 25, 50, 20] \n",
    "\n",
    "for i in list1:\n",
    "    if i == 20 :\n",
    "        list1.remove(20)\n",
    "        \n",
    "print(list1)"
   ]
  },
  {
   "cell_type": "code",
   "execution_count": null,
   "id": "3ede7d48-7f4b-415a-9de6-44b581259f9b",
   "metadata": {},
   "outputs": [],
   "source": [
    "# 31.Combine 2 lists into a dictionary |  USING zip function\n",
    "name = ['Snowball', 'Chewy', 'Bubbles', 'Gruff']\n",
    "animal = ['Cat', 'Dog', 'Fish', 'Goat']\n",
    "\n",
    "zipp = zip(name, animal)\n",
    "print(list(zipp))"
   ]
  },
  {
   "cell_type": "code",
   "execution_count": null,
   "id": "7854dd51-cbea-446c-bbff-87d9e99c83ff",
   "metadata": {},
   "outputs": [],
   "source": []
  },
  {
   "cell_type": "markdown",
   "id": "6d766368-ea8e-4bc1-ac5f-2684c8e119d3",
   "metadata": {},
   "source": [
    "# next page\n"
   ]
  },
  {
   "cell_type": "code",
   "execution_count": null,
   "id": "92d0aaf0-53af-4ce3-a1a3-6b2b861969d1",
   "metadata": {},
   "outputs": [],
   "source": []
  },
  {
   "cell_type": "code",
   "execution_count": null,
   "id": "ea7ad362-d887-4ce9-bcd0-fca2c4acf27b",
   "metadata": {},
   "outputs": [],
   "source": [
    "# 1. Reverse the following tuple. \n",
    "\n",
    "a = (10, 20, 30, 40, 50) \n",
    "a[::-1]"
   ]
  },
  {
   "cell_type": "code",
   "execution_count": null,
   "id": "34e5bce3-9b15-4327-86be-1a09535eba28",
   "metadata": {},
   "outputs": [],
   "source": [
    "# 2.Access value 20 from the following tuple. \n",
    "\n",
    "a= (\"Orange\", [10, 20, 30], (5, 15, 25)) \n",
    "\n",
    "a[1][1]"
   ]
  },
  {
   "cell_type": "code",
   "execution_count": null,
   "id": "40d0c1d1-d358-41ee-b2f7-06f2e303432c",
   "metadata": {},
   "outputs": [],
   "source": [
    "# 3.Create a tuple with single item 50. \n",
    "\n",
    "\n",
    "a = (50 ,)\n",
    "type(a)"
   ]
  },
  {
   "cell_type": "code",
   "execution_count": null,
   "id": "6c3ace21-91cd-4a08-ae91-f17010c7a52f",
   "metadata": {},
   "outputs": [],
   "source": [
    "# 4.Unpack the following tuple into 4 variables. \n",
    "\n",
    "a= (10, 20, 30, 40)\n",
    "\n",
    "x,y,z,p = a\n",
    "print(x,y,z,p)"
   ]
  },
  {
   "cell_type": "code",
   "execution_count": null,
   "id": "e9b1b6aa-43f4-459a-a695-6b9ccb57beff",
   "metadata": {},
   "outputs": [],
   "source": [
    "# 5.Swap the following two tuples. \n",
    "a = (11, 22) \n",
    "b = (99, 88) \n",
    "c = ( )\n",
    "c = a\n",
    "a = b\n",
    "b = c\n",
    "print(a, b)"
   ]
  },
  {
   "cell_type": "code",
   "execution_count": null,
   "id": "6121008d-3da1-40a2-9818-8fdc3ee1cd96",
   "metadata": {},
   "outputs": [],
   "source": [
    "# 6.Copy element 44 and 55 from the following tuple into a new tuple. \n",
    "\n",
    "tuple2 = (44, 55)\n",
    "\n",
    "a , b = tuple2\n",
    "\n",
    "print(a, b)"
   ]
  },
  {
   "cell_type": "code",
   "execution_count": null,
   "id": "3403601c-ff0a-42d4-aeb0-5b274c5d768b",
   "metadata": {},
   "outputs": [],
   "source": [
    "# 7.Modify the first item (22) of a list inside a following tuple to 222. \n",
    "\n",
    "a = (11, [22, 33], 44, 55) \n",
    "\n",
    "a[1][0] = 222\n",
    "print(a)"
   ]
  },
  {
   "cell_type": "code",
   "execution_count": null,
   "id": "2ffb882f-1ce7-4580-b79b-70967a6509ee",
   "metadata": {},
   "outputs": [],
   "source": [
    "# 8.Counts the number of occurrences of item 50 from a tuple. \n",
    "\n",
    "a = (50, 10, 60, 70, 50) \n",
    "count=0\n",
    "for i in a:\n",
    "    if i == 50:\n",
    "        count+=1\n",
    "\n",
    "print(count)"
   ]
  },
  {
   "cell_type": "code",
   "execution_count": null,
   "id": "e71ffb6d-37c9-473e-af62-3f0d4a71cce5",
   "metadata": {},
   "outputs": [],
   "source": [
    "# 9.Assign the first element of the tuple to answer_1 on line 2. \n",
    "tt = (11, 100, 99, 1000, 999) \n",
    "\n",
    "answer_1 = tt[0]\n",
    "print(answer_1)"
   ]
  },
  {
   "cell_type": "code",
   "execution_count": null,
   "id": "2f379e4a-8422-4256-b56b-14429a6f7f59",
   "metadata": {},
   "outputs": [],
   "source": [
    "# 10.What's the index of 2? \n",
    "\n",
    "\n",
    "tt = (55, 777, 54, 6, 76, 101, 1, 2, 8679, 123, 99) \n",
    "\n",
    "print(tt.index(2))"
   ]
  },
  {
   "cell_type": "code",
   "execution_count": null,
   "id": "7e48bbd9-b6e6-48d4-83af-ee743f362f2e",
   "metadata": {},
   "outputs": [],
   "source": [
    "# 11.How many times does 777 occur? \n",
    "\n",
    "tt = (55, 6, 777, 54, 6, 76, 777, 1, 77, 2, 6) \n",
    "\n",
    "count=0\n",
    "for i in tt:\n",
    "    if i == 777:\n",
    "        count+=1\n",
    "\n",
    "print(count)"
   ]
  },
  {
   "cell_type": "code",
   "execution_count": null,
   "id": "42db83ea-2e12-43b9-85f6-327e52ddc05e",
   "metadata": {},
   "outputs": [],
   "source": [
    "# 12.What is the sum of all the numbers in the tuple? \n",
    "\n",
    "tt = (42, 1092, 11, 88, 65, 2, 6) \n",
    "\n",
    "\n",
    "sum(tt)"
   ]
  },
  {
   "cell_type": "code",
   "execution_count": null,
   "id": "00d636f3-a3f8-4588-aa0f-baa0273b7e49",
   "metadata": {},
   "outputs": [],
   "source": [
    "# 13.What is the minimum value in the tuple? \n",
    "\n",
    "\n",
    "tt=(66, 555, 11, 101, 9, 1001) \n",
    "\n",
    "min(tt)"
   ]
  },
  {
   "cell_type": "code",
   "execution_count": null,
   "id": "a5603d60-fa2e-44f1-9cd3-7e7fb918670e",
   "metadata": {},
   "outputs": [],
   "source": []
  },
  {
   "cell_type": "markdown",
   "id": "ba1fd1a2-286f-4465-b057-447e54e24109",
   "metadata": {},
   "source": [
    "# next page"
   ]
  },
  {
   "cell_type": "code",
   "execution_count": null,
   "id": "c873ba42-041e-4b51-bd4b-3b0f647c6eb0",
   "metadata": {},
   "outputs": [],
   "source": []
  },
  {
   "cell_type": "code",
   "execution_count": null,
   "id": "78574d02-01ca-4a9c-b0d5-77e0003d0d04",
   "metadata": {},
   "outputs": [],
   "source": [
    "# 16.Convert a set to a list | \n",
    "\n",
    "a = {4, 2, 3}\n",
    "\n",
    "b = list(a)\n",
    "type(b)"
   ]
  },
  {
   "cell_type": "code",
   "execution_count": null,
   "id": "38686b0c-59ae-4cdc-9282-bb637a74935f",
   "metadata": {},
   "outputs": [],
   "source": [
    "# 17.How can you iterate on values in a set? | \n",
    "\n",
    "s = {'a','b','c','d','e'} \n",
    "\n",
    "# using loop "
   ]
  },
  {
   "cell_type": "code",
   "execution_count": null,
   "id": "5833cd37-93cb-43d6-90a6-7fe7ad81d832",
   "metadata": {},
   "outputs": [],
   "source": [
    "# 18.Return the length of a set \n",
    "\n",
    "s = {\"a\", \"b\", \"c\", \"d\", \"e\"}\n",
    "len(s)"
   ]
  },
  {
   "cell_type": "code",
   "execution_count": null,
   "id": "1e93ce08-215e-4adc-93b6-260b8b2f5890",
   "metadata": {},
   "outputs": [],
   "source": [
    "# 19.Find the union of 2 sets. | | EXPECTED O/P: {1, 2, 3, 4, 5, 6, 7, 8} \n",
    "s1 = {1, 2, 3, 4, 5} \n",
    "s2 = {4, 5, 6, 7, 8} \n",
    "\n",
    "s1.union(s2)"
   ]
  },
  {
   "cell_type": "code",
   "execution_count": null,
   "id": "01a2ff8e-9a11-4d91-bb6e-4867c8efa107",
   "metadata": {},
   "outputs": [],
   "source": [
    "# 20. Find the elements in s1 that are not in s2 | \n",
    "s1 = {1,2,3,4,5} \n",
    "s2 = {4, 5, 6, 7, 8} \n",
    "s1-s2"
   ]
  },
  {
   "cell_type": "code",
   "execution_count": null,
   "id": "ad02a6e5-eca6-478a-bf89-503552451b16",
   "metadata": {},
   "outputs": [],
   "source": [
    "# 21.Remove an element from a set | REMOVE Z \n",
    "\n",
    "s = {\"x\",\"y\",\"z\"}\n",
    "\n",
    "s.remove(\"z\")\n",
    "print(s)"
   ]
  },
  {
   "cell_type": "code",
   "execution_count": null,
   "id": "53a3aa2d-5f50-4cf4-addc-861de66994d5",
   "metadata": {},
   "outputs": [],
   "source": [
    "# 22.Remove and return an unspecified element from a set | \n",
    "\n",
    "s = {\"z\",\"y\", \"x\"}\n",
    "\n",
    "s.pop()"
   ]
  },
  {
   "cell_type": "code",
   "execution_count": null,
   "id": "1fa28c4e-004e-4359-a1ec-cd6933e6521b",
   "metadata": {},
   "outputs": [],
   "source": [
    "# 23.Add all elements from another set to an existing set | EXPECTED (O / P) {1, 2, 3, 4, 5} \n",
    "a = {1, 2, 3} \n",
    "b = {3, 4, 5}\n",
    "\n",
    "a.union(b)"
   ]
  },
  {
   "cell_type": "code",
   "execution_count": null,
   "id": "992d9b60-6b6e-47de-9c11-f8228a6f7b3a",
   "metadata": {},
   "outputs": [],
   "source": [
    "# 24. Remove all elements from a set | \n",
    "\n",
    "a = {1, 2, 3} \n",
    "a.clear \n"
   ]
  },
  {
   "cell_type": "code",
   "execution_count": null,
   "id": "361cda33-bbaa-4794-80a2-047a970d952a",
   "metadata": {},
   "outputs": [],
   "source": [
    "# 25.Remove an element from a set if it exists. | \n",
    "\n",
    "a = {1, 2, 3} \n",
    "a.discard(4)"
   ]
  },
  {
   "cell_type": "code",
   "execution_count": null,
   "id": "56d86c00-ac9b-40a7-bdf8-5c51722418dd",
   "metadata": {},
   "outputs": [],
   "source": [
    "# 26. Can a set be accessed by index? | (its Theory questions) \n",
    "\n",
    "\n",
    "# setcannot access elements of a set by index it will through error\n",
    "a[0]"
   ]
  },
  {
   "cell_type": "raw",
   "id": "e256eb14-1d83-4ff8-987c-0020c281ffa0",
   "metadata": {},
   "source": [
    "# 27. What is the difference between a set and a tuple? | (its Theory questions) \n",
    "\n",
    "\n",
    "1 tuple have only two method count and index. while set have 17\n",
    "\n",
    "2 in tuple we can use index but in set we cannot\n",
    "\n",
    "3 tuple is immutable while set is mutable\n",
    "\n",
    "4 position of data in tuple is same. while position of data in set change's\n",
    "\n",
    "and many more \n",
    "\n"
   ]
  },
  {
   "cell_type": "raw",
   "id": "cab933c2-a4f2-4a89-8760-e7cb4a7a5a4d",
   "metadata": {},
   "source": [
    "# 28.What is the difference between a set and a frozenset? | (its Theory questions)\n",
    "\n",
    "\n",
    "set is mutable while forzenset is immutable\n"
   ]
  },
  {
   "cell_type": "code",
   "execution_count": 2,
   "id": "1b209f1c-41a9-47fe-967d-af8050823ec1",
   "metadata": {},
   "outputs": [
    {
     "data": {
      "text/plain": [
       "{1, 2, 3}"
      ]
     },
     "execution_count": 2,
     "metadata": {},
     "output_type": "execute_result"
    }
   ],
   "source": [
    "# 29.Python program to find the missing of s1 in s2  | expected (o / p) {1, 2, 3} \n",
    "s1= {1, 2, 3, 4, 5, 6}\n",
    "s2 = {4, 5, 6, 7, 8}\n",
    "\n",
    "s1 -s2"
   ]
  },
  {
   "cell_type": "code",
   "execution_count": 7,
   "id": "513db5bb-55e8-42ca-a443-f1b97f2feb68",
   "metadata": {},
   "outputs": [
    {
     "name": "stdout",
     "output_type": "stream",
     "text": [
      "{'Yellow', 'Green', 'Black', 'Red', 'Orange'}\n"
     ]
    }
   ],
   "source": [
    "# 30.remove last item from a given set |\n",
    "\n",
    "s1={'Green', 'Yellow', 'Black', 'Orange', 'Red', 'Blue'}\n",
    "s1.discard(\"Blue\")\n",
    "print(s1)"
   ]
  },
  {
   "cell_type": "code",
   "execution_count": null,
   "id": "902ac5d9-1efc-477b-a1ae-8e4b1d7194e6",
   "metadata": {},
   "outputs": [],
   "source": []
  },
  {
   "cell_type": "code",
   "execution_count": null,
   "id": "6bca54de-e80e-4748-aae3-0419ea3e9d27",
   "metadata": {},
   "outputs": [],
   "source": []
  },
  {
   "cell_type": "code",
   "execution_count": null,
   "id": "3629f634-98ed-4178-9d03-3ad864fd09e4",
   "metadata": {},
   "outputs": [],
   "source": []
  }
 ],
 "metadata": {
  "kernelspec": {
   "display_name": "Python 3 (ipykernel)",
   "language": "python",
   "name": "python3"
  },
  "language_info": {
   "codemirror_mode": {
    "name": "ipython",
    "version": 3
   },
   "file_extension": ".py",
   "mimetype": "text/x-python",
   "name": "python",
   "nbconvert_exporter": "python",
   "pygments_lexer": "ipython3",
   "version": "3.9.4"
  }
 },
 "nbformat": 4,
 "nbformat_minor": 5
}
