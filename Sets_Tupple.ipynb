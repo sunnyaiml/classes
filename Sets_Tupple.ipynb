{
 "cells": [
  {
   "cell_type": "markdown",
   "id": "4c96143e-3108-4831-9402-062c2e15971a",
   "metadata": {},
   "source": [
    "Tupple are imutable unchangeble "
   ]
  },
  {
   "cell_type": "code",
   "execution_count": 1,
   "id": "7ff72d89-3859-4ded-88c2-2e7f5cd44fbf",
   "metadata": {},
   "outputs": [
    {
     "name": "stdout",
     "output_type": "stream",
     "text": [
      "(1, 3, 4, 5, 6, 67, 7, 8, 5)\n"
     ]
    }
   ],
   "source": [
    "a = (1, 3, 4, 5, 6, 67, 7, 8, 5)\n",
    "print(a)"
   ]
  },
  {
   "cell_type": "code",
   "execution_count": 5,
   "id": "8e04bc8f-520e-4824-b522-83fa5680486b",
   "metadata": {},
   "outputs": [
    {
     "data": {
      "text/plain": [
       "2"
      ]
     },
     "execution_count": 5,
     "metadata": {},
     "output_type": "execute_result"
    }
   ],
   "source": [
    "a.count(5)"
   ]
  },
  {
   "cell_type": "code",
   "execution_count": 13,
   "id": "fe1ec68b-855e-4d8f-a1b1-2bdf19f93536",
   "metadata": {},
   "outputs": [],
   "source": [
    "b = {1, 3, 4, 5, 6, 67, 7, 8, 5}"
   ]
  },
  {
   "cell_type": "markdown",
   "id": "e94218bc-54c6-48f5-afb3-86581dc44c01",
   "metadata": {},
   "source": [
    "Sets are uorder, unindex, unchange, and take no duplicates\n",
    "\n",
    "            and it only take add and remove value"
   ]
  },
  {
   "cell_type": "code",
   "execution_count": 19,
   "id": "bafc9185-3e66-4f18-a3cb-17b77bcc27d9",
   "metadata": {},
   "outputs": [
    {
     "name": "stdout",
     "output_type": "stream",
     "text": [
      "{'preet', 'pratap', 'jack'}\n"
     ]
    }
   ],
   "source": [
    "set1={\"jack\", \"janny\", \"puneet\", \"preet\", \"pratap\"}\n",
    "set2={\"isha\", \"vishwajeet\", \"kartick\", \"janny\", \"puneet\"}\n",
    "\n",
    "set3=set1.difference(set2)\n",
    "\n",
    "print(set3)"
   ]
  },
  {
   "cell_type": "code",
   "execution_count": 23,
   "id": "171f9959-bcf4-4ce2-9982-862834addaa3",
   "metadata": {},
   "outputs": [
    {
     "name": "stdout",
     "output_type": "stream",
     "text": [
      "{'vishwajeet', 'kartick', 'isha'}\n"
     ]
    }
   ],
   "source": [
    "# Difference we use \" - \"\n",
    "\n",
    "set1={\"jack\", \"janny\", \"puneet\", \"preet\", \"pratap\"}\n",
    "set2={\"isha\", \"vishwajeet\", \"kartick\", \"janny\", \"puneet\"}\n",
    "\n",
    "set3=set2 - set1\n",
    "\n",
    "print(set3)"
   ]
  },
  {
   "cell_type": "code",
   "execution_count": 25,
   "id": "f7642a69-110e-4791-b67f-a324c1033588",
   "metadata": {},
   "outputs": [
    {
     "name": "stdout",
     "output_type": "stream",
     "text": [
      "{'janny', 'kartick', 'pratap', 'isha', 'preet', 'vishwajeet', 'jack', 'puneet'}\n"
     ]
    }
   ],
   "source": [
    "# for Union we use \" | \"\n",
    "\n",
    "set1={\"jack\", \"janny\", \"puneet\", \"preet\", \"pratap\"}\n",
    "set2={\"isha\", \"vishwajeet\", \"kartick\", \"janny\", \"puneet\"}\n",
    "\n",
    "set3=set2 | set1\n",
    "\n",
    "print(set3)"
   ]
  },
  {
   "cell_type": "code",
   "execution_count": 27,
   "id": "185a0b32-b2e7-4e08-ae90-bd4348eccef1",
   "metadata": {},
   "outputs": [
    {
     "name": "stdout",
     "output_type": "stream",
     "text": [
      "{'janny', 'puneet'}\n"
     ]
    }
   ],
   "source": [
    "# for intersection we \"&\" \n",
    "\n",
    "\n",
    "\n",
    "set1={\"jack\", \"janny\", \"puneet\", \"preet\", \"pratap\"}\n",
    "set2={\"isha\", \"vishwajeet\", \"kartick\", \"janny\", \"puneet\"}\n",
    "\n",
    "set3=set2 & set1\n",
    "\n",
    "print(set3)"
   ]
  },
  {
   "cell_type": "code",
   "execution_count": 29,
   "id": "dca867df-bb62-4a0e-ac32-fcd470b1d9e0",
   "metadata": {},
   "outputs": [
    {
     "name": "stdout",
     "output_type": "stream",
     "text": [
      "{'kartick', 'isha', 'jack', 'preet', 'vishwajeet', 'pratap'}\n"
     ]
    }
   ],
   "source": [
    "# for Sematic_difference we \" ^ \" \n",
    "\n",
    "\n",
    "\n",
    "set1={\"jack\", \"janny\", \"puneet\", \"preet\", \"pratap\"}\n",
    "set2={\"isha\", \"vishwajeet\", \"kartick\", \"janny\", \"puneet\"}\n",
    "\n",
    "set3=set2 ^ set1\n",
    "\n",
    "print(set3)"
   ]
  },
  {
   "cell_type": "code",
   "execution_count": 37,
   "id": "05945b12-c0e9-4031-b787-9f69454bb80b",
   "metadata": {},
   "outputs": [
    {
     "name": "stdout",
     "output_type": "stream",
     "text": [
      "{'jack', 'preet', 'pratap', 'puneet'}\n"
     ]
    }
   ],
   "source": [
    "\n",
    "set1={\"jack\", \"janny\", \"puneet\", \"preet\", \"pratap\"}\n",
    "set2={\"isha\", \"vishwajeet\", \"kartick\", \"janny\", \"puneet\"}\n",
    "\n",
    "set1.discard(\"janny\")\n",
    "print(set1)"
   ]
  },
  {
   "cell_type": "code",
   "execution_count": 41,
   "id": "0a944598-f9d8-4c2f-b9f3-11f3acfbebed",
   "metadata": {},
   "outputs": [
    {
     "name": "stdout",
     "output_type": "stream",
     "text": [
      "{'jack', 'preet', 'pratap', 'puneet'}\n"
     ]
    }
   ],
   "source": [
    "\n",
    "set1={\"jack\", \"janny\", \"puneet\", \"preet\", \"pratap\"}\n",
    "set2={\"isha\", \"vishwajeet\", \"kartick\", \"janny\", \"puneet\"}\n",
    "\n",
    "set1.remove(\"janny\")\n",
    "print(set1)"
   ]
  },
  {
   "cell_type": "code",
   "execution_count": null,
   "id": "a158a1fd-79b9-4c5c-bf28-0c62979b96b1",
   "metadata": {},
   "outputs": [],
   "source": []
  }
 ],
 "metadata": {
  "kernelspec": {
   "display_name": "Python 3 (ipykernel)",
   "language": "python",
   "name": "python3"
  },
  "language_info": {
   "codemirror_mode": {
    "name": "ipython",
    "version": 3
   },
   "file_extension": ".py",
   "mimetype": "text/x-python",
   "name": "python",
   "nbconvert_exporter": "python",
   "pygments_lexer": "ipython3",
   "version": "3.12.7"
  }
 },
 "nbformat": 4,
 "nbformat_minor": 5
}
