{
 "cells": [
  {
   "cell_type": "code",
   "execution_count": null,
   "id": "b4e19245-4cd5-41c4-a7a2-b1b4347843cb",
   "metadata": {},
   "outputs": [],
   "source": [
    "#Class Polymorphism\n",
    "#Polymorphism is often used in Class methods, where we can have multiple classes with the \n",
    "#same method name.\n",
    "\n",
    "#For example, say we have three classes: \n",
    "#Car, Boat, and Plane, and they all have a method called move():\n",
    "\n",
    "#Example\n",
    "#Different classes with the same method:\n",
    "\n",
    "class Car:\n",
    "  def __init__(self, brand, model):\n",
    "    self.brand = brand\n",
    "    self.model = model\n",
    "\n",
    "  def move(self):\n",
    "    print(\"Drive!\")\n",
    "\n",
    "class Boat:\n",
    "  def __init__(self, brand, model):\n",
    "    self.brand = brand\n",
    "    self.model = model\n",
    "\n",
    "  def move(self):\n",
    "    print(\"Sail!\")\n",
    "\n",
    "class Plane:\n",
    "  def __init__(self, brand, model):\n",
    "    self.brand = brand\n",
    "    self.model = model\n",
    "\n",
    "  def move(self):\n",
    "    print(\"Fly!\")\n",
    "\n",
    "car1 = Car(\"Ford\", \"Mustang\")       #Create a Car class\n",
    "boat1 = Boat(\"Ibiza\", \"Touring 20\") #Create a Boat class\n",
    "plane1 = Plane(\"Boeing\", \"747\")     #Create a Plane class\n",
    "\n",
    "for x in (car1, boat1, plane1):\n",
    "  x.move()\n"
   ]
  },
  {
   "cell_type": "code",
   "execution_count": null,
   "id": "8ce504cb-bcdf-4e92-8932-2a1b6942ea07",
   "metadata": {},
   "outputs": [],
   "source": [
    "#Inheritance Class Polymorphism\n",
    "#What about classes with child classes with the same name? Can we use polymorphism there?\n",
    "\n",
    "#Yes. If we use the example above and make a parent class called Vehicle, and make Car,\n",
    "#Boat, Plane child classes of Vehicle, the child classes inherits the Vehicle methods, \n",
    "#but can override them:\n",
    "\n",
    "#Example\n",
    "#Create a class called Vehicle and make Car, Boat, Plane child classes of Vehicle:\n",
    "\n",
    "class Vehicle:\n",
    "  def __init__(self, brand, model):\n",
    "    self.brand = brand\n",
    "    self.model = model\n",
    "\n",
    "  def move(self):\n",
    "    print(\"Move!\")\n",
    "\n",
    "class Car(Vehicle):\n",
    "  pass\n",
    "\n",
    "class Boat(Vehicle):\n",
    "  def move(self):\n",
    "    print(\"Sail!\")\n",
    "\n",
    "class Plane(Vehicle):\n",
    "  def move(self):\n",
    "    print(\"Fly!\")\n",
    "\n",
    "car1 = Car(\"Ford\", \"Mustang\") #Create a Car object\n",
    "boat1 = Boat(\"Ibiza\", \"Touring 20\") #Create a Boat object\n",
    "plane1 = Plane(\"Boeing\", \"747\") #Create a Plane object\n",
    "\n",
    "for x in (car1, boat1, plane1):\n",
    "  print(x.brand)\n",
    "  print(x.model)\n",
    "  x.move()\n",
    "#Child classes inherits the properties and methods from the parent class.\n",
    "\n",
    "#Above you can see that the Car class is empty, but it inherits brand, model, and move() \n",
    "#from Vehicle.\n",
    "\n",
    "#The Boat and Plane classes also inherit brand, model, and move() from Vehicle, \n",
    "#but they both override the move() method.\n",
    "\n",
    "#Because of polymorphism we can execute the same method for all classes.\n",
    "#The word \"polymorphism\" means \"many forms\", and in programming it refers to \n",
    "#methods/functions/operators with the same name that can be executed on many \n",
    "#objects or classes."
   ]
  },
  {
   "cell_type": "markdown",
   "id": "8ad52e72-6b40-4aad-bf87-5f963078ad6a",
   "metadata": {},
   "source": [
    "Python Exceptions\n",
    "\n",
    "When a Python program meets an error, it stops the execution of the rest of the program. An error in Python might be either an error in the syntax of an expression or a Python exception. We will see what an exception is. Also, we will see the difference between a syntax error and an exception. Following that, we will learn about trying and except blocks and how to raise exceptions and make assertions. After that, we will see the Python exceptions list.\n",
    "\n",
    "What is an Exception?\n",
    "\n",
    "An exception in Python is an incident that happens while executing a program that causes the regular course of the program's commands to be disrupted. When a Python code comes across a condition it can't handle, it raises an exception. An object in Python that describes an error is called an exception.\n",
    "\n",
    "When a Python code throws an exception, it has two options: handle the exception immediately or stop and quit."
   ]
  },
  {
   "cell_type": "code",
   "execution_count": null,
   "id": "6d77a2f3-d31d-4de3-91e2-66cf731147e6",
   "metadata": {},
   "outputs": [],
   "source": [
    "a=5\n",
    "b=0\n",
    "\n",
    "try:\n",
    "   print('program opened')\n",
    "   print(a/b)\n",
    "   c=int(input('Enter a number'))\n",
    "   print(c)\n",
    "\n",
    "\n",
    "except ValueError as v:\n",
    "    print('You have entered a wrong input')\n",
    "\n",
    "except ZeroDivisionError as z:\n",
    "    print('u cant divide a no by zero')\n",
    "  \n",
    "  \n",
    "except Exception as e:\n",
    "     print('Something is wrong',e)\n",
    "      \n",
    "\n",
    "\n",
    "finally:\n",
    "    print('program closed')\n",
    "\n",
    "\n",
    "     "
   ]
  },
  {
   "cell_type": "markdown",
   "id": "f97fae09-145c-45b6-b9a5-1be4e89844e0",
   "metadata": {},
   "source": [
    "A program or process's smallest unit is called a thread, and it can run on its own or as part of a schedule set by the Operating System. Multitasking in a computer system is achieved by dividing a process into threads by an operating system. A string is a lightweight cycle that guarantees the execution of the interaction independently on the framework. When multiple processors are running on a program in Python 3, each processor runs simultaneously to carry out its own tasks..\n",
    "\n",
    "Python Multithreading\n",
    "\n",
    "\r\n",
    "Multithreading is a stringing procedure in Python programming to run various strings simultaneously by quickly exchanging between strings with a central processor help (called setting exchanging). In addition, it makes it possible to share its data space with the primary threads of a process, making it easier than with individual processes to share information and communicate with other threads. The goal of multithreading is to complete multiple tasks at the same time, which improves application rendering and performance\n",
    "\n",
    "When to use Multithreading in Python?\n",
    "\n",
    "\r\n",
    "It is an exceptionally valuable strategy for efficient and working on the presentation of an application. Programmers can run multiple subtasks of an application at the same time by using multithreading. It lets threads talk to the same processor and share resources like files, data, and memory. In addition, it makes it easier for the user to continue running a program even when a portion of it is blocked or oto lon\r\n",
    "."
   ]
  },
  {
   "cell_type": "markdown",
   "id": "442d638f-6291-44cf-8a34-11f176bf40a1",
   "metadata": {},
   "source": [
    "How to achieve multithreading in Python?\n",
    "There are two main modules of multithreading used to handle threads in Python.\n",
    "\n",
    "The thread module\n",
    "The threading module\n",
    "Thread modules\n",
    "It is started with Python 3, designated as obsolete, and can only be accessed with _thread that supports backward compatibility.\n",
    "\n",
    "\n"
   ]
  },
  {
   "cell_type": "markdown",
   "id": "74888807-13d4-4fd1-bec5-c19f598e582d",
   "metadata": {},
   "source": [
    "Syntax:\n",
    "\n",
    "\n",
    "thread.start_new_thread ( function_name, args[, kwargs] )  \n",
    "\n",
    "To implement the thread module in Python, we need to import a thread module and then define a function that performs some action by setting the target with a variable."
   ]
  },
  {
   "cell_type": "markdown",
   "id": "5a51fa61-c08c-419d-8ed3-7ba3e2fa41dc",
   "metadata": {},
   "source": [
    "Threading Modules\n",
    "\n",
    "The threading module is a high-level implementation of multithreading used to deploy an application in Python. To use multithreading, we need to import the threading module in Python Program."
   ]
  },
  {
   "cell_type": "markdown",
   "id": "1a7652d5-1b07-4421-a8ce-837c3b3bd7ab",
   "metadata": {},
   "source": [
    "Thread Class Methods\n",
    "\n",
    "Methods\t    Description\n",
    "start():\tA start() method is used to initiate the activity of a thread. And it calls                 only once for each thread so that the execution of the thread can begin.\n",
    "run():\t    A run() method is used to define a thread's activity and can be overridden by a             class that extends the threads class.\n",
    "join():\t    A join() method is used to block the execution of another code until the thread             terminates."
   ]
  },
  {
   "cell_type": "markdown",
   "id": "ed87a895-c25f-4b23-a547-0964d1d30281",
   "metadata": {},
   "source": [
    "1. Import the threading module\n",
    "   \n",
    "\n",
    "Create a new thread by importing the threading module, as shown.\n",
    "\n",
    "\n",
    "Syntax:\n",
    "\n",
    "\n",
    "import threading  \n",
    "\n",
    "A threading module is made up of a Thread class, which is instantiated to create a Python thread.\n",
    "\n"
   ]
  },
  {
   "cell_type": "markdown",
   "id": "881e05cc-e302-4ebb-a336-cabb63b9c5e3",
   "metadata": {},
   "source": [
    "2. Start a new thread: To start a thread in Python multithreading, call the thread class's object. The start() method can be called once for each thread object; otherwise, it throws an exception error.\n",
    "\n",
    "\n",
    "Syntax:\n",
    "\n",
    "\n",
    "t1.start()  \n",
    "t2.start()  "
   ]
  },
  {
   "cell_type": "markdown",
   "id": "bef8c6c1-41f1-45eb-a51a-9b5b4b94d639",
   "metadata": {},
   "source": [
    "4. Join method: It is a join() method used in the thread class to halt the main thread's execution and waits till the complete execution of the thread object. When the thread object is completed, it starts the execution of the main thread in Python."
   ]
  },
  {
   "cell_type": "markdown",
   "id": "1cc295ed-a4f4-493d-913e-0f078a432b07",
   "metadata": {},
   "source": [
    "5. Synchronizing Threads in Python\n",
    "\n",
    "\n",
    "It is a thread synchronization mechanism that makes sure that no two threads can run the same part of the program at the same time to access shared resources. Critical sections could be used to describe the situation. To avoid the critical section condition, in which two threads cannot simultaneously access resources, we employ a race condition."
   ]
  },
  {
   "cell_type": "code",
   "execution_count": null,
   "id": "f55f0aad-02f7-463f-a69c-69f06ad05472",
   "metadata": {},
   "outputs": [],
   "source": [
    "from time import sleep\n",
    "from threading import *\n",
    "class Hey(Thread):\n",
    "    def run(self):\n",
    "        for i in range(5):\n",
    "            print('Hey')\n",
    "            sleep(1)\n",
    "\n",
    "\n",
    "\n",
    "class wassup(Thread):\n",
    "    def run(self):\n",
    "        for i in range(5):\n",
    "            print('Wassup')\n",
    "            sleep(1)\n",
    "\n",
    "t1=Hey()\n",
    "t2=wassup()\n",
    "\n",
    "t1.start()\n",
    "sleep(0.2)\n",
    "t2.start()\n",
    "\n",
    "\n",
    "t1.join()\n",
    "t2.join()\n",
    "\n",
    "print('bye')\n",
    "    "
   ]
  },
  {
   "cell_type": "code",
   "execution_count": 3,
   "id": "0335d5a5-0439-42a5-9b07-48621d5344ce",
   "metadata": {
    "scrolled": true
   },
   "outputs": [
    {
     "name": "stdout",
     "output_type": "stream",
     "text": [
      "1746001000.380077\n"
     ]
    }
   ],
   "source": [
    "import time\n",
    "#prints the number of ticks spent since 12 AM, 1st January 1970  \n",
    "print(time.time())  "
   ]
  },
  {
   "cell_type": "code",
   "execution_count": 4,
   "id": "c731b2af-5214-424c-8a24-6baba8c8b56d",
   "metadata": {},
   "outputs": [
    {
     "name": "stdout",
     "output_type": "stream",
     "text": [
      "time.struct_time(tm_year=2025, tm_mon=4, tm_mday=30, tm_hour=13, tm_min=46, tm_sec=44, tm_wday=2, tm_yday=120, tm_isdst=0)\n"
     ]
    }
   ],
   "source": [
    "import time;    \n",
    "    \n",
    "#returns a time tuple     \n",
    "    \n",
    "print(time.localtime(time.time())) "
   ]
  },
  {
   "cell_type": "code",
   "execution_count": 5,
   "id": "326f6419-a030-4eae-95fa-e704a8d4fb08",
   "metadata": {},
   "outputs": [
    {
     "name": "stdout",
     "output_type": "stream",
     "text": [
      "Wed Apr 30 13:46:56 2025\n"
     ]
    }
   ],
   "source": [
    "import time    \n",
    "  #returns the formatted time      \n",
    "  \n",
    "print(time.asctime(time.localtime(time.time())))  "
   ]
  },
  {
   "cell_type": "markdown",
   "id": "b955b259-613a-4d56-ae6e-7a22d3602aa0",
   "metadata": {},
   "source": [
    "Python sleep time\n",
    "\n",
    "The sleep() method of time module is used to stop the execution of the script for a given amount of time. The output will be delayed for the number of seconds provided as the float."
   ]
  },
  {
   "cell_type": "code",
   "execution_count": null,
   "id": "aeee5aaf-0b5d-4a02-8462-c28a550bf1f9",
   "metadata": {},
   "outputs": [],
   "source": [
    "import time  \n",
    "for i in range(0,5):  \n",
    "    print(i)  \n",
    "    #Each element will be printed after 1 second  \n",
    "    time.sleep(1)  "
   ]
  },
  {
   "cell_type": "code",
   "execution_count": 7,
   "id": "f201ff8b-3021-4908-8a0b-4e686acc3011",
   "metadata": {},
   "outputs": [
    {
     "name": "stdout",
     "output_type": "stream",
     "text": [
      "     April 2025\n",
      "Mo Tu We Th Fr Sa Su\n",
      "    1  2  3  4  5  6\n",
      " 7  8  9 10 11 12 13\n",
      "14 15 16 17 18 19 20\n",
      "21 22 23 24 25 26 27\n",
      "28 29 30\n",
      "\n"
     ]
    }
   ],
   "source": [
    "import calendar;    \n",
    "cal = calendar.month(2025,4)    \n",
    "#printing the calendar of December 2018    \n",
    "print(cal)    "
   ]
  },
  {
   "cell_type": "code",
   "execution_count": 9,
   "id": "3b6f1096-84e5-488d-aeff-f529976fc60e",
   "metadata": {},
   "outputs": [
    {
     "name": "stdout",
     "output_type": "stream",
     "text": [
      "                                  2025\n",
      "\n",
      "      January                   February                   March\n",
      "Mo Tu We Th Fr Sa Su      Mo Tu We Th Fr Sa Su      Mo Tu We Th Fr Sa Su\n",
      "       1  2  3  4  5                      1  2                      1  2\n",
      " 6  7  8  9 10 11 12       3  4  5  6  7  8  9       3  4  5  6  7  8  9\n",
      "13 14 15 16 17 18 19      10 11 12 13 14 15 16      10 11 12 13 14 15 16\n",
      "20 21 22 23 24 25 26      17 18 19 20 21 22 23      17 18 19 20 21 22 23\n",
      "27 28 29 30 31            24 25 26 27 28            24 25 26 27 28 29 30\n",
      "                                                    31\n",
      "\n",
      "       April                      May                       June\n",
      "Mo Tu We Th Fr Sa Su      Mo Tu We Th Fr Sa Su      Mo Tu We Th Fr Sa Su\n",
      "    1  2  3  4  5  6                1  2  3  4                         1\n",
      " 7  8  9 10 11 12 13       5  6  7  8  9 10 11       2  3  4  5  6  7  8\n",
      "14 15 16 17 18 19 20      12 13 14 15 16 17 18       9 10 11 12 13 14 15\n",
      "21 22 23 24 25 26 27      19 20 21 22 23 24 25      16 17 18 19 20 21 22\n",
      "28 29 30                  26 27 28 29 30 31         23 24 25 26 27 28 29\n",
      "                                                    30\n",
      "\n",
      "        July                     August                  September\n",
      "Mo Tu We Th Fr Sa Su      Mo Tu We Th Fr Sa Su      Mo Tu We Th Fr Sa Su\n",
      "    1  2  3  4  5  6                   1  2  3       1  2  3  4  5  6  7\n",
      " 7  8  9 10 11 12 13       4  5  6  7  8  9 10       8  9 10 11 12 13 14\n",
      "14 15 16 17 18 19 20      11 12 13 14 15 16 17      15 16 17 18 19 20 21\n",
      "21 22 23 24 25 26 27      18 19 20 21 22 23 24      22 23 24 25 26 27 28\n",
      "28 29 30 31               25 26 27 28 29 30 31      29 30\n",
      "\n",
      "      October                   November                  December\n",
      "Mo Tu We Th Fr Sa Su      Mo Tu We Th Fr Sa Su      Mo Tu We Th Fr Sa Su\n",
      "       1  2  3  4  5                      1  2       1  2  3  4  5  6  7\n",
      " 6  7  8  9 10 11 12       3  4  5  6  7  8  9       8  9 10 11 12 13 14\n",
      "13 14 15 16 17 18 19      10 11 12 13 14 15 16      15 16 17 18 19 20 21\n",
      "20 21 22 23 24 25 26      17 18 19 20 21 22 23      22 23 24 25 26 27 28\n",
      "27 28 29 30 31            24 25 26 27 28 29 30      29 30 31\n"
     ]
    }
   ],
   "source": [
    "import calendar    \n",
    "#printing the calendar of the year 2019    \n",
    "s = calendar.prcal(2025)  "
   ]
  },
  {
   "cell_type": "code",
   "execution_count": 10,
   "id": "81361f89-131f-4ba0-a15e-08c0213f8120",
   "metadata": {},
   "outputs": [
    {
     "data": {
      "text/plain": [
       "88"
      ]
     },
     "execution_count": 10,
     "metadata": {},
     "output_type": "execute_result"
    }
   ],
   "source": [
    "l=[34,55,66,77,88]\n",
    "max(l)"
   ]
  },
  {
   "cell_type": "code",
   "execution_count": null,
   "id": "e731faf0-d0dc-4c7a-85a0-17aee4191af1",
   "metadata": {},
   "outputs": [],
   "source": [
    "class Har:\n",
    "    def run(self):\n",
    "        for i in range(5):\n",
    "            print('Har Har')\n",
    "\n",
    "\n",
    "class Mahadev:\n",
    "    def run(self):\n",
    "        for i in range(5):\n",
    "            print('Mahadev')\n",
    "\n",
    "t1=Har()\n",
    "t2=Mahadev()\n",
    "t1.run()\n",
    "t2.run()"
   ]
  },
  {
   "cell_type": "code",
   "execution_count": null,
   "id": "6379f01f-49ff-464d-ac96-151895619df6",
   "metadata": {},
   "outputs": [],
   "source": [
    "from threading import *\n",
    "\n",
    "\n",
    "class Har(Thread):\n",
    "    def run(self):\n",
    "        for i in range(5):\n",
    "            print('Har Har')\n",
    "\n",
    "\n",
    "class Mahadev(Thread):\n",
    "    def run(self):\n",
    "        for i in range(5):\n",
    "            print('Mahadev')\n",
    "t1 = Har()\n",
    "t2 = Mahadev()\n",
    "t1.run()\n",
    "t2.run()\n"
   ]
  },
  {
   "cell_type": "code",
   "execution_count": null,
   "id": "3f318bb0-3cfa-459e-8bfb-272ee103d41b",
   "metadata": {},
   "outputs": [],
   "source": [
    "from threading import *\n",
    "from time import sleep\n",
    "\n",
    "class Har(Thread):\n",
    "    def run(self):\n",
    "        for i in range(5):\n",
    "            print('Har Har')\n",
    "            sleep(1)\n",
    "\n",
    "\n",
    "class Mahadev(Thread):\n",
    "    def run(self):\n",
    "        for i in range(5):\n",
    "            print('Mahadev')\n",
    "            sleep(1)\n",
    "t1 = Har()\n",
    "t2 = Mahadev()\n",
    "t1.run()\n",
    "t2.run()\n"
   ]
  },
  {
   "cell_type": "code",
   "execution_count": null,
   "id": "070bfd0f-48db-43a3-8632-a39daec976b4",
   "metadata": {},
   "outputs": [],
   "source": []
  }
 ],
 "metadata": {
  "kernelspec": {
   "display_name": "Python 3 (ipykernel)",
   "language": "python",
   "name": "python3"
  },
  "language_info": {
   "codemirror_mode": {
    "name": "ipython",
    "version": 3
   },
   "file_extension": ".py",
   "mimetype": "text/x-python",
   "name": "python",
   "nbconvert_exporter": "python",
   "pygments_lexer": "ipython3",
   "version": "3.12.7"
  }
 },
 "nbformat": 4,
 "nbformat_minor": 5
}
