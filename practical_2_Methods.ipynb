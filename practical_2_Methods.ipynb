{
 "cells": [
  {
   "cell_type": "markdown",
   "id": "1f46266d-19e5-40d8-b7b9-d50938b9abd1",
   "metadata": {},
   "source": [
    "Methods\n"
   ]
  },
  {
   "cell_type": "code",
   "execution_count": 21,
   "id": "eb9f77ab-91f7-407f-bc32-68066b7bc9b5",
   "metadata": {},
   "outputs": [],
   "source": [
    "a = [\"jack\", \"jen\", \"jenny\"]\n",
    "b = \"This is a practice Sentences\"\n",
    "v = \"aeiou and jeiou\"\n",
    "w = \"funto\""
   ]
  },
  {
   "cell_type": "code",
   "execution_count": 15,
   "id": "6a98835d-389e-4143-a2c8-09ba288c030e",
   "metadata": {},
   "outputs": [
    {
     "name": "stdout",
     "output_type": "stream",
     "text": [
      "My Name is jack and i am 40 Year Old and i like to do this Something\n"
     ]
    }
   ],
   "source": [
    "name = 'jack'\n",
    "age = 40\n",
    "does = \"Something\"\n",
    "\n",
    "p = \"My Name is {} and i am {} Year Old and i like to do this {}\"\n",
    "print(p.format(name, age, does))"
   ]
  },
  {
   "cell_type": "code",
   "execution_count": 17,
   "id": "257c5060-79e2-47be-b4a4-cd4aa363c7f0",
   "metadata": {},
   "outputs": [
    {
     "name": "stdout",
     "output_type": "stream",
     "text": [
      "juktp and jeiou\n"
     ]
    }
   ],
   "source": [
    "print(v.replace(\"aeiou\",\"juktp\"))"
   ]
  },
  {
   "cell_type": "code",
   "execution_count": 25,
   "id": "ba61382b-7112-4590-8027-a802424286b3",
   "metadata": {},
   "outputs": [
    {
     "ename": "TypeError",
     "evalue": "str.removesuffix() takes exactly one argument (2 given)",
     "output_type": "error",
     "traceback": [
      "\u001b[1;31m---------------------------------------------------------------------------\u001b[0m",
      "\u001b[1;31mTypeError\u001b[0m                                 Traceback (most recent call last)",
      "Cell \u001b[1;32mIn[25], line 1\u001b[0m\n\u001b[1;32m----> 1\u001b[0m \u001b[38;5;28mprint\u001b[39m(\u001b[43mw\u001b[49m\u001b[38;5;241;43m.\u001b[39;49m\u001b[43mremovesuffix\u001b[49m\u001b[43m(\u001b[49m\u001b[38;5;124;43m\"\u001b[39;49m\u001b[38;5;124;43mf\u001b[39;49m\u001b[38;5;124;43m\"\u001b[39;49m\u001b[43m,\u001b[49m\u001b[43m \u001b[49m\u001b[38;5;124;43m\"\u001b[39;49m\u001b[38;5;124;43mF\u001b[39;49m\u001b[38;5;124;43m\"\u001b[39;49m\u001b[43m)\u001b[49m)\n",
      "\u001b[1;31mTypeError\u001b[0m: str.removesuffix() takes exactly one argument (2 given)"
     ]
    }
   ],
   "source": [
    "print(w.)"
   ]
  },
  {
   "cell_type": "code",
   "execution_count": 53,
   "id": "f3daafc7-d309-4a33-941c-88fecae487bf",
   "metadata": {},
   "outputs": [
    {
     "name": "stdout",
     "output_type": "stream",
     "text": [
      "False\n"
     ]
    }
   ],
   "source": [
    "\n",
    "\n",
    "a = \"HelloWorld\"\n",
    "c= \" AGBHGDSL\"\n",
    "b = \"helloWorld\"\n",
    "\n",
    "print(a is b)"
   ]
  },
  {
   "cell_type": "code",
   "execution_count": 61,
   "id": "120460e8-9a99-4001-a18f-95bf8cd69102",
   "metadata": {},
   "outputs": [
    {
     "name": "stdout",
     "output_type": "stream",
     "text": [
      "True\n",
      "False\n"
     ]
    }
   ],
   "source": [
    "print(c.isupper())\n",
    "print(b.istitle())\n",
    "print(a.)"
   ]
  },
  {
   "cell_type": "code",
   "execution_count": null,
   "id": "d71a606f-411c-401d-8b20-443f2e58e060",
   "metadata": {},
   "outputs": [],
   "source": []
  }
 ],
 "metadata": {
  "kernelspec": {
   "display_name": "Python 3 (ipykernel)",
   "language": "python",
   "name": "python3"
  },
  "language_info": {
   "codemirror_mode": {
    "name": "ipython",
    "version": 3
   },
   "file_extension": ".py",
   "mimetype": "text/x-python",
   "name": "python",
   "nbconvert_exporter": "python",
   "pygments_lexer": "ipython3",
   "version": "3.12.7"
  }
 },
 "nbformat": 4,
 "nbformat_minor": 5
}
